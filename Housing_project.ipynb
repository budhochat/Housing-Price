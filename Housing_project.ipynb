{
 "cells": [
  {
   "cell_type": "markdown",
   "metadata": {},
   "source": [
    "# House Prices: Advanced Regression Techniques - Kaggle\n",
    "# Data Analysis and Visualization"
   ]
  },
  {
   "cell_type": "markdown",
   "metadata": {},
   "source": [
    "### Importing the libraries"
   ]
  },
  {
   "cell_type": "code",
   "execution_count": 81,
   "metadata": {},
   "outputs": [],
   "source": [
    "# Importing the libraries\n",
    "import numpy as np\n",
    "import pandas as pd\n",
    "import matplotlib.pyplot as plt\n",
    "import seaborn as sns\n",
    "%matplotlib inline \n",
    "# Ignore useless warnings (see SciPy issue #5998)\n",
    "import warnings\n",
    "warnings.filterwarnings(action=\"ignore\", message=\"^internal gelsd\")\n",
    "\n",
    "import scipy.stats as stats\n",
    "from scipy import stats\n",
    "from scipy.stats import pointbiserialr, spearmanr, skew, pearsonr"
   ]
  },
  {
   "cell_type": "markdown",
   "metadata": {},
   "source": [
    "### Import the datasets"
   ]
  },
  {
   "cell_type": "code",
   "execution_count": 82,
   "metadata": {},
   "outputs": [],
   "source": [
    "# import the datasets\n",
    "train_data = pd.read_csv('./Data/train.csv')\n",
    "test_data = pd.read_csv('./Data/test.csv')"
   ]
  },
  {
   "cell_type": "code",
   "execution_count": 83,
   "metadata": {},
   "outputs": [],
   "source": [
    "test_data = pd.read_csv('./Data/test.csv')"
   ]
  },
  {
   "cell_type": "markdown",
   "metadata": {},
   "source": [
    "### Basic informations about the data"
   ]
  },
  {
   "cell_type": "code",
   "execution_count": 84,
   "metadata": {},
   "outputs": [
    {
     "data": {
      "text/html": [
       "<div>\n",
       "<style scoped>\n",
       "    .dataframe tbody tr th:only-of-type {\n",
       "        vertical-align: middle;\n",
       "    }\n",
       "\n",
       "    .dataframe tbody tr th {\n",
       "        vertical-align: top;\n",
       "    }\n",
       "\n",
       "    .dataframe thead th {\n",
       "        text-align: right;\n",
       "    }\n",
       "</style>\n",
       "<table border=\"1\" class=\"dataframe\">\n",
       "  <thead>\n",
       "    <tr style=\"text-align: right;\">\n",
       "      <th></th>\n",
       "      <th>Id</th>\n",
       "      <th>MSSubClass</th>\n",
       "      <th>MSZoning</th>\n",
       "      <th>LotFrontage</th>\n",
       "      <th>LotArea</th>\n",
       "      <th>Street</th>\n",
       "      <th>Alley</th>\n",
       "      <th>LotShape</th>\n",
       "      <th>LandContour</th>\n",
       "      <th>Utilities</th>\n",
       "      <th>...</th>\n",
       "      <th>PoolArea</th>\n",
       "      <th>PoolQC</th>\n",
       "      <th>Fence</th>\n",
       "      <th>MiscFeature</th>\n",
       "      <th>MiscVal</th>\n",
       "      <th>MoSold</th>\n",
       "      <th>YrSold</th>\n",
       "      <th>SaleType</th>\n",
       "      <th>SaleCondition</th>\n",
       "      <th>SalePrice</th>\n",
       "    </tr>\n",
       "  </thead>\n",
       "  <tbody>\n",
       "    <tr>\n",
       "      <th>0</th>\n",
       "      <td>1</td>\n",
       "      <td>60</td>\n",
       "      <td>RL</td>\n",
       "      <td>65.0</td>\n",
       "      <td>8450</td>\n",
       "      <td>Pave</td>\n",
       "      <td>NaN</td>\n",
       "      <td>Reg</td>\n",
       "      <td>Lvl</td>\n",
       "      <td>AllPub</td>\n",
       "      <td>...</td>\n",
       "      <td>0</td>\n",
       "      <td>NaN</td>\n",
       "      <td>NaN</td>\n",
       "      <td>NaN</td>\n",
       "      <td>0</td>\n",
       "      <td>2</td>\n",
       "      <td>2008</td>\n",
       "      <td>WD</td>\n",
       "      <td>Normal</td>\n",
       "      <td>208500</td>\n",
       "    </tr>\n",
       "    <tr>\n",
       "      <th>1</th>\n",
       "      <td>2</td>\n",
       "      <td>20</td>\n",
       "      <td>RL</td>\n",
       "      <td>80.0</td>\n",
       "      <td>9600</td>\n",
       "      <td>Pave</td>\n",
       "      <td>NaN</td>\n",
       "      <td>Reg</td>\n",
       "      <td>Lvl</td>\n",
       "      <td>AllPub</td>\n",
       "      <td>...</td>\n",
       "      <td>0</td>\n",
       "      <td>NaN</td>\n",
       "      <td>NaN</td>\n",
       "      <td>NaN</td>\n",
       "      <td>0</td>\n",
       "      <td>5</td>\n",
       "      <td>2007</td>\n",
       "      <td>WD</td>\n",
       "      <td>Normal</td>\n",
       "      <td>181500</td>\n",
       "    </tr>\n",
       "    <tr>\n",
       "      <th>2</th>\n",
       "      <td>3</td>\n",
       "      <td>60</td>\n",
       "      <td>RL</td>\n",
       "      <td>68.0</td>\n",
       "      <td>11250</td>\n",
       "      <td>Pave</td>\n",
       "      <td>NaN</td>\n",
       "      <td>IR1</td>\n",
       "      <td>Lvl</td>\n",
       "      <td>AllPub</td>\n",
       "      <td>...</td>\n",
       "      <td>0</td>\n",
       "      <td>NaN</td>\n",
       "      <td>NaN</td>\n",
       "      <td>NaN</td>\n",
       "      <td>0</td>\n",
       "      <td>9</td>\n",
       "      <td>2008</td>\n",
       "      <td>WD</td>\n",
       "      <td>Normal</td>\n",
       "      <td>223500</td>\n",
       "    </tr>\n",
       "    <tr>\n",
       "      <th>3</th>\n",
       "      <td>4</td>\n",
       "      <td>70</td>\n",
       "      <td>RL</td>\n",
       "      <td>60.0</td>\n",
       "      <td>9550</td>\n",
       "      <td>Pave</td>\n",
       "      <td>NaN</td>\n",
       "      <td>IR1</td>\n",
       "      <td>Lvl</td>\n",
       "      <td>AllPub</td>\n",
       "      <td>...</td>\n",
       "      <td>0</td>\n",
       "      <td>NaN</td>\n",
       "      <td>NaN</td>\n",
       "      <td>NaN</td>\n",
       "      <td>0</td>\n",
       "      <td>2</td>\n",
       "      <td>2006</td>\n",
       "      <td>WD</td>\n",
       "      <td>Abnorml</td>\n",
       "      <td>140000</td>\n",
       "    </tr>\n",
       "    <tr>\n",
       "      <th>4</th>\n",
       "      <td>5</td>\n",
       "      <td>60</td>\n",
       "      <td>RL</td>\n",
       "      <td>84.0</td>\n",
       "      <td>14260</td>\n",
       "      <td>Pave</td>\n",
       "      <td>NaN</td>\n",
       "      <td>IR1</td>\n",
       "      <td>Lvl</td>\n",
       "      <td>AllPub</td>\n",
       "      <td>...</td>\n",
       "      <td>0</td>\n",
       "      <td>NaN</td>\n",
       "      <td>NaN</td>\n",
       "      <td>NaN</td>\n",
       "      <td>0</td>\n",
       "      <td>12</td>\n",
       "      <td>2008</td>\n",
       "      <td>WD</td>\n",
       "      <td>Normal</td>\n",
       "      <td>250000</td>\n",
       "    </tr>\n",
       "  </tbody>\n",
       "</table>\n",
       "<p>5 rows × 81 columns</p>\n",
       "</div>"
      ],
      "text/plain": [
       "   Id  MSSubClass MSZoning  LotFrontage  LotArea Street Alley LotShape  \\\n",
       "0   1          60       RL         65.0     8450   Pave   NaN      Reg   \n",
       "1   2          20       RL         80.0     9600   Pave   NaN      Reg   \n",
       "2   3          60       RL         68.0    11250   Pave   NaN      IR1   \n",
       "3   4          70       RL         60.0     9550   Pave   NaN      IR1   \n",
       "4   5          60       RL         84.0    14260   Pave   NaN      IR1   \n",
       "\n",
       "  LandContour Utilities  ... PoolArea PoolQC Fence MiscFeature MiscVal MoSold  \\\n",
       "0         Lvl    AllPub  ...        0    NaN   NaN         NaN       0      2   \n",
       "1         Lvl    AllPub  ...        0    NaN   NaN         NaN       0      5   \n",
       "2         Lvl    AllPub  ...        0    NaN   NaN         NaN       0      9   \n",
       "3         Lvl    AllPub  ...        0    NaN   NaN         NaN       0      2   \n",
       "4         Lvl    AllPub  ...        0    NaN   NaN         NaN       0     12   \n",
       "\n",
       "  YrSold  SaleType  SaleCondition  SalePrice  \n",
       "0   2008        WD         Normal     208500  \n",
       "1   2007        WD         Normal     181500  \n",
       "2   2008        WD         Normal     223500  \n",
       "3   2006        WD        Abnorml     140000  \n",
       "4   2008        WD         Normal     250000  \n",
       "\n",
       "[5 rows x 81 columns]"
      ]
     },
     "execution_count": 84,
     "metadata": {},
     "output_type": "execute_result"
    }
   ],
   "source": [
    "train_data.head()"
   ]
  },
  {
   "cell_type": "code",
   "execution_count": 85,
   "metadata": {},
   "outputs": [
    {
     "data": {
      "text/plain": [
       "Index(['Id', 'MSSubClass', 'MSZoning', 'LotFrontage', 'LotArea', 'Street',\n",
       "       'Alley', 'LotShape', 'LandContour', 'Utilities', 'LotConfig',\n",
       "       'LandSlope', 'Neighborhood', 'Condition1', 'Condition2', 'BldgType',\n",
       "       'HouseStyle', 'OverallQual', 'OverallCond', 'YearBuilt', 'YearRemodAdd',\n",
       "       'RoofStyle', 'RoofMatl', 'Exterior1st', 'Exterior2nd', 'MasVnrType',\n",
       "       'MasVnrArea', 'ExterQual', 'ExterCond', 'Foundation', 'BsmtQual',\n",
       "       'BsmtCond', 'BsmtExposure', 'BsmtFinType1', 'BsmtFinSF1',\n",
       "       'BsmtFinType2', 'BsmtFinSF2', 'BsmtUnfSF', 'TotalBsmtSF', 'Heating',\n",
       "       'HeatingQC', 'CentralAir', 'Electrical', '1stFlrSF', '2ndFlrSF',\n",
       "       'LowQualFinSF', 'GrLivArea', 'BsmtFullBath', 'BsmtHalfBath', 'FullBath',\n",
       "       'HalfBath', 'BedroomAbvGr', 'KitchenAbvGr', 'KitchenQual',\n",
       "       'TotRmsAbvGrd', 'Functional', 'Fireplaces', 'FireplaceQu', 'GarageType',\n",
       "       'GarageYrBlt', 'GarageFinish', 'GarageCars', 'GarageArea', 'GarageQual',\n",
       "       'GarageCond', 'PavedDrive', 'WoodDeckSF', 'OpenPorchSF',\n",
       "       'EnclosedPorch', '3SsnPorch', 'ScreenPorch', 'PoolArea', 'PoolQC',\n",
       "       'Fence', 'MiscFeature', 'MiscVal', 'MoSold', 'YrSold', 'SaleType',\n",
       "       'SaleCondition', 'SalePrice'],\n",
       "      dtype='object')"
      ]
     },
     "execution_count": 85,
     "metadata": {},
     "output_type": "execute_result"
    }
   ],
   "source": [
    "train_data.columns"
   ]
  },
  {
   "cell_type": "code",
   "execution_count": 86,
   "metadata": {},
   "outputs": [
    {
     "data": {
      "text/plain": [
       "Index(['MSZoning', 'Street', 'Alley', 'LotShape', 'LandContour', 'Utilities',\n",
       "       'LotConfig', 'LandSlope', 'Neighborhood', 'Condition1', 'Condition2',\n",
       "       'BldgType', 'HouseStyle', 'RoofStyle', 'RoofMatl', 'Exterior1st',\n",
       "       'Exterior2nd', 'MasVnrType', 'ExterQual', 'ExterCond', 'Foundation',\n",
       "       'BsmtQual', 'BsmtCond', 'BsmtExposure', 'BsmtFinType1', 'BsmtFinType2',\n",
       "       'Heating', 'HeatingQC', 'CentralAir', 'Electrical', 'KitchenQual',\n",
       "       'Functional', 'FireplaceQu', 'GarageType', 'GarageFinish', 'GarageQual',\n",
       "       'GarageCond', 'PavedDrive', 'PoolQC', 'Fence', 'MiscFeature',\n",
       "       'SaleType', 'SaleCondition'],\n",
       "      dtype='object')"
      ]
     },
     "execution_count": 86,
     "metadata": {},
     "output_type": "execute_result"
    }
   ],
   "source": [
    "# Categorical variables \n",
    "train_data.dtypes[train_data.dtypes == \"object\"].index"
   ]
  },
  {
   "cell_type": "code",
   "execution_count": 87,
   "metadata": {},
   "outputs": [
    {
     "data": {
      "text/plain": [
       "Index(['Id', 'MSSubClass', 'LotFrontage', 'LotArea', 'OverallQual',\n",
       "       'OverallCond', 'YearBuilt', 'YearRemodAdd', 'MasVnrArea', 'BsmtFinSF1',\n",
       "       'BsmtFinSF2', 'BsmtUnfSF', 'TotalBsmtSF', '1stFlrSF', '2ndFlrSF',\n",
       "       'LowQualFinSF', 'GrLivArea', 'BsmtFullBath', 'BsmtHalfBath', 'FullBath',\n",
       "       'HalfBath', 'BedroomAbvGr', 'KitchenAbvGr', 'TotRmsAbvGrd',\n",
       "       'Fireplaces', 'GarageYrBlt', 'GarageCars', 'GarageArea', 'WoodDeckSF',\n",
       "       'OpenPorchSF', 'EnclosedPorch', '3SsnPorch', 'ScreenPorch', 'PoolArea',\n",
       "       'MiscVal', 'MoSold', 'YrSold', 'SalePrice'],\n",
       "      dtype='object')"
      ]
     },
     "execution_count": 87,
     "metadata": {},
     "output_type": "execute_result"
    }
   ],
   "source": [
    "# Numerical variables\n",
    "train_data.dtypes[train_data.dtypes != \"object\"].index"
   ]
  },
  {
   "cell_type": "code",
   "execution_count": 88,
   "metadata": {},
   "outputs": [],
   "source": [
    "# Check for duplicates\n",
    "train_data.drop_duplicates(subset=None, keep='first', inplace=True);"
   ]
  },
  {
   "cell_type": "markdown",
   "metadata": {},
   "source": [
    "#### Histogram of numeric quantities"
   ]
  },
  {
   "cell_type": "code",
   "execution_count": 89,
   "metadata": {},
   "outputs": [
    {
     "data": {
      "image/png": "[encoded data removed]",
      "text/plain": [
       "<Figure size 1800x1800 with 42 Axes>"
      ]
     },
     "metadata": {
      "needs_background": "light"
     },
     "output_type": "display_data"
    }
   ],
   "source": [
    "train_data.hist(figsize=(25,25));"
   ]
  },
  {
   "cell_type": "markdown",
   "metadata": {},
   "source": [
    "Some numerical variables are essentially categorical variables. Lots of skewness in the distributions. Most importantly the target variable 'SalePrice' is also skewed. Checking in more detail.\n"
   ]
  },
  {
   "cell_type": "code",
   "execution_count": 90,
   "metadata": {},
   "outputs": [
    {
     "data": {
      "image/png": "[encoded data removed]",
      "text/plain": [
       "<Figure size 432x288 with 1 Axes>"
      ]
     },
     "metadata": {
      "needs_background": "light"
     },
     "output_type": "display_data"
    }
   ],
   "source": [
    "sns.distplot(train_data['SalePrice']);"
   ]
  },
  {
   "cell_type": "markdown",
   "metadata": {},
   "source": [
    "Skewness is a measure of symmetry, or more precisely, the lack of symmetry. A distribution, or data set, is symmetric if it looks the same to the left and right of the center point. The skewness for a normal distribution = 0\n",
    "\n",
    "Kurtosis is a measure of whether the data are heavy-tailed or light-tailed relative to a normal distribution. That is, data sets with high kurtosis tend to have heavy tails, or outliers. Data sets with low kurtosis tend to have light tails, or lack of outliers.\n",
    "The kurtosis for a standard normal distribution = 3"
   ]
  },
  {
   "cell_type": "code",
   "execution_count": 91,
   "metadata": {},
   "outputs": [
    {
     "name": "stdout",
     "output_type": "stream",
     "text": [
      "Skewness: 1.882876\n",
      "Kurtosis: 6.536282\n"
     ]
    }
   ],
   "source": [
    "#skewness and kurtosis\n",
    "print(\"Skewness: %f\" % train_data['SalePrice'].skew())\n",
    "print(\"Kurtosis: %f\" % train_data['SalePrice'].kurt())"
   ]
  },
  {
   "cell_type": "code",
   "execution_count": 92,
   "metadata": {},
   "outputs": [
    {
     "data": {
      "text/plain": [
       "count      1460.000000\n",
       "mean     180921.195890\n",
       "std       79442.502883\n",
       "min       34900.000000\n",
       "25%      129975.000000\n",
       "50%      163000.000000\n",
       "75%      214000.000000\n",
       "max      755000.000000\n",
       "Name: SalePrice, dtype: float64"
      ]
     },
     "execution_count": 92,
     "metadata": {},
     "output_type": "execute_result"
    }
   ],
   "source": [
    "train_data['SalePrice'].describe()"
   ]
  },
  {
   "cell_type": "markdown",
   "metadata": {},
   "source": [
    "#### Exploring categorical variables"
   ]
  },
  {
   "cell_type": "code",
   "execution_count": 93,
   "metadata": {},
   "outputs": [
    {
     "data": {
      "text/plain": [
       "<seaborn.axisgrid.PairGrid at 0x2b804e984160>"
      ]
     },
     "execution_count": 93,
     "metadata": {},
     "output_type": "execute_result"
    },
    {
     "data": {
      "image/png": "[encoded data removed]",
      "text/plain": [
       "<Figure size 1260x180 with 7 Axes>"
      ]
     },
     "metadata": {
      "needs_background": "light"
     },
     "output_type": "display_data"
    },
    {
     "data": {
      "image/png": "[encoded data removed]",
      "text/plain": [
       "<Figure size 1260x180 with 7 Axes>"
      ]
     },
     "metadata": {
      "needs_background": "light"
     },
     "output_type": "display_data"
    },
    {
     "data": {
      "image/png": "[encoded data removed]",
      "text/plain": [
       "<Figure size 1260x180 with 7 Axes>"
      ]
     },
     "metadata": {
      "needs_background": "light"
     },
     "output_type": "display_data"
    },
    {
     "data": {
      "image/png": "[encoded data removed]",
      "text/plain": [
       "<Figure size 1260x180 with 7 Axes>"
      ]
     },
     "metadata": {
      "needs_background": "light"
     },
     "output_type": "display_data"
    },
    {
     "data": {
      "image/png": "[encoded data removed]",
      "text/plain": [
       "<Figure size 1260x180 with 7 Axes>"
      ]
     },
     "metadata": {
      "needs_background": "light"
     },
     "output_type": "display_data"
    },
    {
     "data": {
      "image/png": "[encoded data removed]",
      "text/plain": [
       "<Figure size 1260x180 with 7 Axes>"
      ]
     },
     "metadata": {
      "needs_background": "light"
     },
     "output_type": "display_data"
    },
    {
     "data": {
      "image/png": "[encoded data removed]",
      "text/plain": [
       "<Figure size 1260x180 with 7 Axes>"
      ]
     },
     "metadata": {
      "needs_background": "light"
     },
     "output_type": "display_data"
    },
    {
     "data": {
      "image/png": "[encoded data removed]",
      "text/plain": [
       "<Figure size 900x180 with 5 Axes>"
      ]
     },
     "metadata": {
      "needs_background": "light"
     },
     "output_type": "display_data"
    }
   ],
   "source": [
    "cat_fch1 = ['MSSubClass', 'MSZoning', 'Street', 'Alley','LotShape','LandContour','Utilities']\n",
    "cat_fch2 = ['LotConfig','LandSlope','Neighborhood','Condition1','Condition2','BldgType','HouseStyle']\n",
    "cat_fch3 = ['OverallQual','OverallCond','RoofStyle','RoofMatl','Exterior1st','Exterior2nd','MasVnrType']\n",
    "cat_fch4 = ['ExterQual','ExterCond','Foundation','BsmtQual','BsmtCond','BsmtExposure','BsmtFinType1']\n",
    "cat_fch5 = ['BsmtFinType2', 'Heating', 'HeatingQC', 'CentralAir', 'Electrical','BsmtFullBath', 'BsmtHalfBath']\n",
    "cat_fch6 = ['FullBath', 'HalfBath', 'BedroomAbvGr', 'KitchenAbvGr', 'KitchenQual','TotRmsAbvGrd', 'Functional'] \n",
    "cat_fch7 = ['Fireplaces', 'FireplaceQu', 'GarageType', 'GarageFinish', 'GarageQual','GarageCond', 'PavedDrive']\n",
    "cat_fch8 = ['PoolQC','Fence', 'MiscFeature', 'SaleType', 'SaleCondition']\n",
    "\n",
    "g1 = sns.PairGrid(train_data,\n",
    "                 x_vars = cat_fch1,\n",
    "                 y_vars=[\"SalePrice\"])\n",
    "g2 = sns.PairGrid(train_data,\n",
    "                 x_vars = cat_fch2,\n",
    "                 y_vars=[\"SalePrice\"])\n",
    "g3 = sns.PairGrid(train_data,\n",
    "                 x_vars = cat_fch3,\n",
    "                 y_vars=[\"SalePrice\"])\n",
    "g4 = sns.PairGrid(train_data,\n",
    "                 x_vars = cat_fch4,\n",
    "                 y_vars=[\"SalePrice\"])\n",
    "g5 = sns.PairGrid(train_data,\n",
    "                 x_vars = cat_fch5,\n",
    "                 y_vars=[\"SalePrice\"])\n",
    "g6 = sns.PairGrid(train_data,\n",
    "                 x_vars = cat_fch6,\n",
    "                 y_vars=[\"SalePrice\"])\n",
    "g7 = sns.PairGrid(train_data,\n",
    "                 x_vars = cat_fch7,\n",
    "                 y_vars=[\"SalePrice\"])\n",
    "g8 = sns.PairGrid(train_data,\n",
    "                 x_vars = cat_fch8,\n",
    "                 y_vars=[\"SalePrice\"])\n",
    "\n",
    "g1.map(sns.barplot)\n",
    "g2.map(sns.barplot)\n",
    "g3.map(sns.barplot)\n",
    "g4.map(sns.barplot)\n",
    "g5.map(sns.barplot)\n",
    "g6.map(sns.barplot)\n",
    "g7.map(sns.barplot)\n",
    "g8.map(sns.barplot)"
   ]
  },
  {
   "cell_type": "markdown",
   "metadata": {},
   "source": [
    "### Correlations"
   ]
  },
  {
   "cell_type": "code",
   "execution_count": 94,
   "metadata": {},
   "outputs": [],
   "source": [
    "corr_matrix = train_data.corr()"
   ]
  },
  {
   "cell_type": "code",
   "execution_count": 95,
   "metadata": {},
   "outputs": [
    {
     "data": {
      "text/plain": [
       "<matplotlib.axes._subplots.AxesSubplot at 0x2b8050c73ba8>"
      ]
     },
     "execution_count": 95,
     "metadata": {},
     "output_type": "execute_result"
    },
    {
     "data": {
      "image/png": "[encoded data removed]",
      "text/plain": [
       "<Figure size 864x648 with 2 Axes>"
      ]
     },
     "metadata": {
      "needs_background": "light"
     },
     "output_type": "display_data"
    }
   ],
   "source": [
    "plt.subplots(figsize=(12, 9))\n",
    "sns.heatmap(corr_matrix, vmax=1, cmap=\"RdBu\", square=True)"
   ]
  },
  {
   "cell_type": "markdown",
   "metadata": {},
   "source": [
    "Very strong correlations (~ 1) between 'TotalBsmtSF' and '1stFlrSF'. Perhaps  indicates multicollinearity.\n",
    "Another strong correlation between 'GarageCars' & 'GarageArea'. This is likely since larger garage area means more cars."
   ]
  },
  {
   "cell_type": "code",
   "execution_count": 96,
   "metadata": {},
   "outputs": [],
   "source": [
    "# Finding highest correlations pairs\n",
    "c = corr_matrix.abs()\n",
    "s = c.unstack()\n",
    "so = s.sort_values(ascending=False)"
   ]
  },
  {
   "cell_type": "code",
   "execution_count": 97,
   "metadata": {},
   "outputs": [
    {
     "data": {
      "text/plain": [
       "GarageCars    GarageArea      0.882475\n",
       "GarageArea    GarageCars      0.882475\n",
       "GarageYrBlt   YearBuilt       0.825667\n",
       "YearBuilt     GarageYrBlt     0.825667\n",
       "GrLivArea     TotRmsAbvGrd    0.825489\n",
       "TotRmsAbvGrd  GrLivArea       0.825489\n",
       "1stFlrSF      TotalBsmtSF     0.819530\n",
       "TotalBsmtSF   1stFlrSF        0.819530\n",
       "dtype: float64"
      ]
     },
     "execution_count": 97,
     "metadata": {},
     "output_type": "execute_result"
    }
   ],
   "source": [
    "so[so.between(0.8,0.99)]"
   ]
  },
  {
   "cell_type": "markdown",
   "metadata": {},
   "source": [
    "The high values of correlation indicated multi-collinearity. Should remove one variable in regression models. For Random forest don't bother."
   ]
  },
  {
   "cell_type": "markdown",
   "metadata": {},
   "source": [
    "The above is the pearson correlation which works only for numerica variable.\n",
    "To explore correlation of non-numeric we should use other method (spearman)"
   ]
  },
  {
   "cell_type": "code",
   "execution_count": 98,
   "metadata": {},
   "outputs": [],
   "source": [
    "# Define general correlation function for both numeric and categorical\n",
    "\n",
    "def correlation_total(threshold):\n",
    "    for i in train_data.columns:\n",
    "        for j in train_data.columns:\n",
    "            if train_data[i].dtype != 'object' and train_data[j].dtype != 'object': # if numerical\n",
    "                if abs(pearsonr(train_data[i], train_data[j])[0]) >= threshold:\n",
    "                    yield (pearsonr(train_data[i], train_data[j])[0], i, j)\n",
    "                    \n",
    "            else:\n",
    "                if abs(spearmanr(train_data[i], train_data[j])[0]) >= threshold:\n",
    "                    yield (spearmanr(train_data[i], train_data[j])[0], i, j)"
   ]
  },
  {
   "cell_type": "markdown",
   "metadata": {},
   "source": [
    " Require to clean up data before applying"
   ]
  },
  {
   "cell_type": "markdown",
   "metadata": {},
   "source": [
    "Correlations with respect to target variable 'SalePrice'\n"
   ]
  },
  {
   "cell_type": "code",
   "execution_count": 99,
   "metadata": {},
   "outputs": [
    {
     "data": {
      "text/plain": [
       "SalePrice        1.000000\n",
       "OverallQual      0.790982\n",
       "GrLivArea        0.708624\n",
       "GarageCars       0.640409\n",
       "GarageArea       0.623431\n",
       "TotalBsmtSF      0.613581\n",
       "1stFlrSF         0.605852\n",
       "FullBath         0.560664\n",
       "TotRmsAbvGrd     0.533723\n",
       "YearBuilt        0.522897\n",
       "YearRemodAdd     0.507101\n",
       "GarageYrBlt      0.486362\n",
       "MasVnrArea       0.477493\n",
       "Fireplaces       0.466929\n",
       "BsmtFinSF1       0.386420\n",
       "LotFrontage      0.351799\n",
       "WoodDeckSF       0.324413\n",
       "2ndFlrSF         0.319334\n",
       "OpenPorchSF      0.315856\n",
       "HalfBath         0.284108\n",
       "LotArea          0.263843\n",
       "BsmtFullBath     0.227122\n",
       "BsmtUnfSF        0.214479\n",
       "BedroomAbvGr     0.168213\n",
       "ScreenPorch      0.111447\n",
       "PoolArea         0.092404\n",
       "MoSold           0.046432\n",
       "3SsnPorch        0.044584\n",
       "BsmtFinSF2      -0.011378\n",
       "BsmtHalfBath    -0.016844\n",
       "MiscVal         -0.021190\n",
       "Id              -0.021917\n",
       "LowQualFinSF    -0.025606\n",
       "YrSold          -0.028923\n",
       "OverallCond     -0.077856\n",
       "MSSubClass      -0.084284\n",
       "EnclosedPorch   -0.128578\n",
       "KitchenAbvGr    -0.135907\n",
       "Name: SalePrice, dtype: float64"
      ]
     },
     "execution_count": 99,
     "metadata": {},
     "output_type": "execute_result"
    }
   ],
   "source": [
    "corr_matrix[\"SalePrice\"].sort_values(ascending=False)"
   ]
  },
  {
   "cell_type": "markdown",
   "metadata": {},
   "source": [
    "Strange that overall condition has negative correlation with sale price"
   ]
  },
  {
   "cell_type": "code",
   "execution_count": 100,
   "metadata": {},
   "outputs": [
    {
     "data": {
      "text/plain": [
       "<seaborn.axisgrid.PairGrid at 0x2b804f776f98>"
      ]
     },
     "execution_count": 100,
     "metadata": {},
     "output_type": "execute_result"
    },
    {
     "data": {
      "image/png": "[encoded data removed]",
      "text/plain": [
       "<Figure size 1260x180 with 7 Axes>"
      ]
     },
     "metadata": {
      "needs_background": "light"
     },
     "output_type": "display_data"
    }
   ],
   "source": [
    "# Scatterplot for top correlated variable with respect to the SalePrice\n",
    "num_var1 = ['OverallQual', 'GrLivArea', 'GarageArea', 'TotalBsmtSF','FullBath','TotRmsAbvGrd','YearBuilt']\n",
    "g1 = sns.PairGrid(train_data,\n",
    "                 x_vars = num_var1,\n",
    "                 y_vars=[\"SalePrice\"])\n",
    "g1.map(sns.scatterplot)"
   ]
  },
  {
   "cell_type": "markdown",
   "metadata": {},
   "source": [
    "## Data Preprocessing "
   ]
  },
  {
   "cell_type": "markdown",
   "metadata": {},
   "source": [
    "#### Outliers"
   ]
  },
  {
   "cell_type": "code",
   "execution_count": 101,
   "metadata": {},
   "outputs": [
    {
     "data": {
      "image/png": "[encoded data removed]",
      "text/plain": [
       "<Figure size 432x288 with 1 Axes>"
      ]
     },
     "metadata": {
      "needs_background": "light"
     },
     "output_type": "display_data"
    }
   ],
   "source": [
    "sns.scatterplot(x='GrLivArea',y='SalePrice',data=train_data);"
   ]
  },
  {
   "cell_type": "markdown",
   "metadata": {},
   "source": [
    "Two plots with GrLivArea > 4000 and SalePrice < 20000 are definitely outliers and should be removed. According to the author of the dataset we should remove all datas with  GrLivArea > 4000\n",
    "Ref : https://ww2.amstat.org/publications/jse/v19n3/decock.pdf"
   ]
  },
  {
   "cell_type": "code",
   "execution_count": 102,
   "metadata": {},
   "outputs": [
    {
     "data": {
      "text/plain": [
       "<matplotlib.axes._subplots.AxesSubplot at 0x2b80521615c0>"
      ]
     },
     "execution_count": 102,
     "metadata": {},
     "output_type": "execute_result"
    },
    {
     "data": {
      "image/png": "[encoded data removed]",
      "text/plain": [
       "<Figure size 432x288 with 1 Axes>"
      ]
     },
     "metadata": {
      "needs_background": "light"
     },
     "output_type": "display_data"
    }
   ],
   "source": [
    "sns.boxplot(x=train_data[\"GrLivArea\"])"
   ]
  },
  {
   "cell_type": "code",
   "execution_count": 103,
   "metadata": {},
   "outputs": [
    {
     "data": {
      "text/plain": [
       "<matplotlib.axes._subplots.AxesSubplot at 0x2b8052cf9198>"
      ]
     },
     "execution_count": 103,
     "metadata": {},
     "output_type": "execute_result"
    },
    {
     "data": {
      "image/png": "[encoded data removed]",
      "text/plain": [
       "<Figure size 432x288 with 1 Axes>"
      ]
     },
     "metadata": {
      "needs_background": "light"
     },
     "output_type": "display_data"
    }
   ],
   "source": [
    "sns.boxplot(x=train_data[\"SalePrice\"])"
   ]
  },
  {
   "cell_type": "code",
   "execution_count": 104,
   "metadata": {},
   "outputs": [],
   "source": [
    "train_data_pro = train_data.drop(train_data[(train_data['GrLivArea']>4500)].index) # train_data processed"
   ]
  },
  {
   "cell_type": "markdown",
   "metadata": {},
   "source": [
    "#### Normalize Sale price "
   ]
  },
  {
   "cell_type": "code",
   "execution_count": 105,
   "metadata": {},
   "outputs": [
    {
     "data": {
      "text/plain": [
       "<matplotlib.axes._subplots.AxesSubplot at 0x2b805128eb00>"
      ]
     },
     "execution_count": 105,
     "metadata": {},
     "output_type": "execute_result"
    },
    {
     "data": {
      "image/png": "[encoded data removed]",
      "text/plain": [
       "<Figure size 432x288 with 1 Axes>"
      ]
     },
     "metadata": {
      "needs_background": "light"
     },
     "output_type": "display_data"
    }
   ],
   "source": [
    "sns.distplot(train_data_pro['SalePrice'])"
   ]
  },
  {
   "cell_type": "markdown",
   "metadata": {},
   "source": [
    "To normalize the skewness of the saleprice we use log transformation. Use numpy fuction log1p which  applies log(1+x) to all elements of the columns"
   ]
  },
  {
   "cell_type": "code",
   "execution_count": 106,
   "metadata": {},
   "outputs": [],
   "source": [
    "train_data_pro['SalePrice'] = np.log1p(train_data_pro['SalePrice'])"
   ]
  },
  {
   "cell_type": "code",
   "execution_count": 107,
   "metadata": {},
   "outputs": [
    {
     "data": {
      "image/png": "[encoded data removed]",
      "text/plain": [
       "<Figure size 432x288 with 1 Axes>"
      ]
     },
     "metadata": {
      "needs_background": "light"
     },
     "output_type": "display_data"
    }
   ],
   "source": [
    "sns.distplot(train_data_pro['SalePrice']);"
   ]
  },
  {
   "cell_type": "markdown",
   "metadata": {},
   "source": [
    "Now it looks lot more normal"
   ]
  },
  {
   "cell_type": "markdown",
   "metadata": {},
   "source": [
    "#### Missing values"
   ]
  },
  {
   "cell_type": "code",
   "execution_count": 108,
   "metadata": {},
   "outputs": [
    {
     "data": {
      "text/plain": [
       "Index(['Id', 'MSSubClass', 'LotFrontage', 'LotArea', 'OverallQual',\n",
       "       'OverallCond', 'YearBuilt', 'YearRemodAdd', 'MasVnrArea', 'BsmtFinSF1',\n",
       "       'BsmtFinSF2', 'BsmtUnfSF', 'TotalBsmtSF', '1stFlrSF', '2ndFlrSF',\n",
       "       'LowQualFinSF', 'GrLivArea', 'BsmtFullBath', 'BsmtHalfBath', 'FullBath',\n",
       "       'HalfBath', 'BedroomAbvGr', 'KitchenAbvGr', 'TotRmsAbvGrd',\n",
       "       'Fireplaces', 'GarageYrBlt', 'GarageCars', 'GarageArea', 'WoodDeckSF',\n",
       "       'OpenPorchSF', 'EnclosedPorch', '3SsnPorch', 'ScreenPorch', 'PoolArea',\n",
       "       'MiscVal', 'MoSold', 'YrSold', 'SalePrice'],\n",
       "      dtype='object')"
      ]
     },
     "execution_count": 108,
     "metadata": {},
     "output_type": "execute_result"
    }
   ],
   "source": [
    "# Numerical variables\n",
    "train_data_pro.select_dtypes(exclude=['object']).columns"
   ]
  },
  {
   "cell_type": "markdown",
   "metadata": {},
   "source": [
    "'MSSubClass'  is a categorical (nominal) variable -> Convert to string <br>\n",
    "'OverallQual', 'OverallCond are ordinal variable -> no change"
   ]
  },
  {
   "cell_type": "code",
   "execution_count": 109,
   "metadata": {},
   "outputs": [],
   "source": [
    "# convert MSSubClass to string\n",
    "train_data_pro['MSSubClass'] = train_data_pro.MSSubClass.astype(str)"
   ]
  },
  {
   "cell_type": "markdown",
   "metadata": {},
   "source": [
    "**Filling missing value strategy** <br>\n",
    "Numeric variable -> Median value <br>\n",
    "Categorical variable -> Mode ( most common value)"
   ]
  },
  {
   "cell_type": "code",
   "execution_count": 110,
   "metadata": {},
   "outputs": [],
   "source": [
    "# Numeric categorical\n",
    "# OverallQual\n",
    "mode = train_data_pro['OverallQual'].mode()[0]\n",
    "train_data_pro['OverallQual'].fillna(mode,inplace=True)                      "
   ]
  },
  {
   "cell_type": "code",
   "execution_count": 111,
   "metadata": {},
   "outputs": [],
   "source": [
    "# 'OverallCond'\n",
    "mode = train_data_pro['OverallCond'].mode()[0]\n",
    "train_data_pro['OverallCond'].fillna(mode,inplace=True) "
   ]
  },
  {
   "cell_type": "code",
   "execution_count": 112,
   "metadata": {},
   "outputs": [
    {
     "data": {
      "text/plain": [
       "LotFrontage      259\n",
       "Alley           1367\n",
       "MasVnrType         8\n",
       "MasVnrArea         8\n",
       "BsmtQual          37\n",
       "BsmtCond          37\n",
       "BsmtExposure      38\n",
       "BsmtFinType1      37\n",
       "BsmtFinType2      38\n",
       "Electrical         1\n",
       "FireplaceQu      690\n",
       "GarageType        81\n",
       "GarageYrBlt       81\n",
       "GarageFinish      81\n",
       "GarageQual        81\n",
       "GarageCond        81\n",
       "PoolQC          1452\n",
       "Fence           1177\n",
       "MiscFeature     1404\n",
       "dtype: int64"
      ]
     },
     "execution_count": 112,
     "metadata": {},
     "output_type": "execute_result"
    }
   ],
   "source": [
    "# Number of missing values and column names\n",
    "train_data_pro.isnull().sum()[train_data_pro.isnull().sum()>0]"
   ]
  },
  {
   "cell_type": "code",
   "execution_count": null,
   "metadata": {},
   "outputs": [],
   "source": []
  },
  {
   "cell_type": "code",
   "execution_count": null,
   "metadata": {},
   "outputs": [],
   "source": []
  },
  {
   "cell_type": "markdown",
   "metadata": {},
   "source": [
    "Note that in columns Alley, BsmtQual, BsmtCond, BsmtExposure, BsmtFinType1, BsmtFinType2, FireplaceQu, GarageType, GarageFinish, GarageQual, GarageCond, PoolQC, Fence, MiscFeature NA represnts a legitimate value and not a null value. <br>\n",
    "Column with actual missing values: LotFrontage, MasVnrType, MasVnrArea, Electrical, GarageYrBlt"
   ]
  },
  {
   "cell_type": "code",
   "execution_count": 113,
   "metadata": {},
   "outputs": [
    {
     "data": {
      "text/plain": [
       "LotFrontage    259\n",
       "MasVnrArea       8\n",
       "GarageYrBlt     81\n",
       "dtype: int64"
      ]
     },
     "execution_count": 113,
     "metadata": {},
     "output_type": "execute_result"
    }
   ],
   "source": [
    "# Numerical columns with missing values\n",
    "train_data_pro.select_dtypes(exclude=['object']).isnull().sum()[train_data_pro.isnull().sum()>0]"
   ]
  },
  {
   "cell_type": "code",
   "execution_count": 114,
   "metadata": {},
   "outputs": [],
   "source": [
    "# Fill numerical missing datas with median\n",
    "# LotFrontage \n",
    "med = train_data_pro['LotFrontage'].median()\n",
    "train_data_pro['LotFrontage'].fillna(med, inplace = True)\n",
    "# MasVnrArea \n",
    "med = train_data_pro['MasVnrArea'].median()\n",
    "train_data_pro['MasVnrArea'].fillna(med, inplace = True)\n",
    "# GarageYrBlt\n",
    "med = train_data_pro['MasVnrArea'].median()\n",
    "train_data_pro['GarageYrBlt'].fillna(med, inplace = True)"
   ]
  },
  {
   "cell_type": "code",
   "execution_count": 115,
   "metadata": {},
   "outputs": [
    {
     "data": {
      "text/plain": [
       "Alley           1367\n",
       "MasVnrType         8\n",
       "BsmtQual          37\n",
       "BsmtCond          37\n",
       "BsmtExposure      38\n",
       "BsmtFinType1      37\n",
       "BsmtFinType2      38\n",
       "Electrical         1\n",
       "FireplaceQu      690\n",
       "GarageType        81\n",
       "GarageFinish      81\n",
       "GarageQual        81\n",
       "GarageCond        81\n",
       "PoolQC          1452\n",
       "Fence           1177\n",
       "MiscFeature     1404\n",
       "dtype: int64"
      ]
     },
     "execution_count": 115,
     "metadata": {},
     "output_type": "execute_result"
    }
   ],
   "source": [
    "# Categorical columns with missing values\n",
    "train_data_pro.select_dtypes(include=['object']).isnull().sum()[train_data_pro.isnull().sum()>0]"
   ]
  },
  {
   "cell_type": "code",
   "execution_count": null,
   "metadata": {},
   "outputs": [],
   "source": []
  },
  {
   "cell_type": "code",
   "execution_count": 116,
   "metadata": {},
   "outputs": [],
   "source": [
    "# Fill categorical columns with actual missing values with most common value (mode)\n",
    "#MasVnrType\n",
    "mode = train_data_pro['MasVnrType'].mode()[0]\n",
    "train_data_pro['MasVnrType'].fillna(mode, inplace = True)\n",
    "#Electrical\n",
    "mode = train_data_pro['Electrical'].mode()[0]\n",
    "train_data_pro['Electrical'].fillna(mode, inplace = True)"
   ]
  },
  {
   "cell_type": "markdown",
   "metadata": {},
   "source": [
    "Note that we use mode[0] since .mode() returns a series which fillna cannot use. .mode()[0] returns the mode value"
   ]
  },
  {
   "cell_type": "code",
   "execution_count": 117,
   "metadata": {},
   "outputs": [],
   "source": [
    "# Remaining categorical columns with NA which are actual values\n",
    "# Fill with string 'none'\n",
    "train_data_pro.fillna('none', inplace = True)"
   ]
  },
  {
   "cell_type": "markdown",
   "metadata": {},
   "source": [
    "#### Cleaning test data "
   ]
  },
  {
   "cell_type": "code",
   "execution_count": 118,
   "metadata": {},
   "outputs": [
    {
     "data": {
      "text/plain": [
       "MSZoning           4\n",
       "LotFrontage      227\n",
       "Alley           1352\n",
       "Utilities          2\n",
       "Exterior1st        1\n",
       "Exterior2nd        1\n",
       "MasVnrType        16\n",
       "MasVnrArea        15\n",
       "BsmtQual          44\n",
       "BsmtCond          45\n",
       "BsmtExposure      44\n",
       "BsmtFinType1      42\n",
       "BsmtFinSF1         1\n",
       "BsmtFinType2      42\n",
       "BsmtFinSF2         1\n",
       "BsmtUnfSF          1\n",
       "TotalBsmtSF        1\n",
       "BsmtFullBath       2\n",
       "BsmtHalfBath       2\n",
       "KitchenQual        1\n",
       "Functional         2\n",
       "FireplaceQu      730\n",
       "GarageType        76\n",
       "GarageYrBlt       78\n",
       "GarageFinish      78\n",
       "GarageCars         1\n",
       "GarageArea         1\n",
       "GarageQual        78\n",
       "GarageCond        78\n",
       "PoolQC          1456\n",
       "Fence           1169\n",
       "MiscFeature     1408\n",
       "SaleType           1\n",
       "dtype: int64"
      ]
     },
     "execution_count": 118,
     "metadata": {},
     "output_type": "execute_result"
    }
   ],
   "source": [
    "# Missing datas in columns\n",
    "test_data.isnull().sum()[test_data.isnull().sum() > 0]"
   ]
  },
  {
   "cell_type": "code",
   "execution_count": 119,
   "metadata": {},
   "outputs": [],
   "source": [
    "# convert MSSubClass to string\n",
    "test_data['MSSubClass'] = test_data.MSSubClass.astype(str)"
   ]
  },
  {
   "cell_type": "code",
   "execution_count": 120,
   "metadata": {},
   "outputs": [
    {
     "data": {
      "text/plain": [
       "LotFrontage     227\n",
       "MasVnrArea       15\n",
       "BsmtFinSF1        1\n",
       "BsmtFinSF2        1\n",
       "BsmtUnfSF         1\n",
       "TotalBsmtSF       1\n",
       "BsmtFullBath      2\n",
       "BsmtHalfBath      2\n",
       "GarageYrBlt      78\n",
       "GarageCars        1\n",
       "GarageArea        1\n",
       "dtype: int64"
      ]
     },
     "execution_count": 120,
     "metadata": {},
     "output_type": "execute_result"
    }
   ],
   "source": [
    "# Numerical columns with missing values\n",
    "test_data.select_dtypes(exclude=['object']).isnull().sum()[test_data.isnull().sum() > 0]"
   ]
  },
  {
   "cell_type": "code",
   "execution_count": 121,
   "metadata": {},
   "outputs": [],
   "source": [
    "# Fill numerical missing data with median for test data\n",
    "med = test_data['LotFrontage'].median()\n",
    "test_data['LotFrontage'].fillna(med, inplace = True)\n",
    "med = test_data['MasVnrArea'].median()\n",
    "test_data['MasVnrArea'].fillna(med, inplace = True)\n",
    "med = test_data['BsmtFinSF1'].median()\n",
    "test_data['BsmtFinSF1'].fillna(med, inplace = True)\n",
    "med = test_data['BsmtFinSF2'].median()\n",
    "test_data['BsmtFinSF2'].fillna(med, inplace = True)\n",
    "med = test_data['TotalBsmtSF'].median()\n",
    "test_data['TotalBsmtSF'].fillna(med, inplace = True)\n",
    "med = test_data['GarageYrBlt'].median()\n",
    "test_data['GarageYrBlt'].fillna(med, inplace = True)\n",
    "med = test_data['GarageArea'].median()\n",
    "test_data['GarageArea'].fillna(med, inplace = True)\n",
    "med = test_data['BsmtUnfSF'].median()\n",
    "test_data['BsmtUnfSF'].fillna(med, inplace = True)"
   ]
  },
  {
   "cell_type": "code",
   "execution_count": 122,
   "metadata": {},
   "outputs": [],
   "source": [
    "# Fill numerical categorical data with mode\n",
    "mode = test_data['BsmtFullBath'].mode()[0]\n",
    "test_data['BsmtFullBath'].fillna(mode, inplace = True)\n",
    "mode = test_data['BsmtHalfBath'].mode()[0]\n",
    "test_data['BsmtHalfBath'].fillna(mode, inplace = True)\n",
    "mode = test_data['GarageCars'].mode()[0]\n",
    "test_data['GarageCars'].fillna(mode, inplace = True)"
   ]
  },
  {
   "cell_type": "markdown",
   "metadata": {},
   "source": [
    "Categorical with actual mising data: Utilities, Exterior1st, Exterior2nd, MasVnrType, KitchenQual, Functional, SaleType "
   ]
  },
  {
   "cell_type": "code",
   "execution_count": 123,
   "metadata": {},
   "outputs": [],
   "source": [
    "# Filling categorical variable with mode for test data\n",
    "mode = test_data['Utilities'].mode()[0]\n",
    "test_data['Utilities'].fillna(mode, inplace = True)\n",
    "mode = test_data['Exterior1st'].mode()[0]\n",
    "test_data['Exterior1st'].fillna(mode, inplace = True)\n",
    "mode = test_data['Exterior2nd'].mode()[0]\n",
    "test_data['Exterior2nd'].fillna(mode, inplace = True)\n",
    "mode = test_data['MasVnrType'].mode()[0]\n",
    "test_data['MasVnrType'].fillna(mode, inplace = True)\n",
    "mode = test_data['KitchenQual'].mode()[0]\n",
    "test_data['KitchenQual'].fillna(mode, inplace = True)\n",
    "mode = test_data['Functional'].mode()[0]\n",
    "test_data['Functional'].fillna(mode, inplace = True)\n",
    "mode = test_data['SaleType'].mode()[0]\n",
    "test_data['SaleType'].fillna(mode, inplace = True)"
   ]
  },
  {
   "cell_type": "code",
   "execution_count": null,
   "metadata": {},
   "outputs": [],
   "source": []
  },
  {
   "cell_type": "code",
   "execution_count": 124,
   "metadata": {},
   "outputs": [],
   "source": [
    "# Filling the rest legimitimate NA with 'none'\n",
    "test_data.fillna('none', inplace = True)"
   ]
  },
  {
   "cell_type": "code",
   "execution_count": 125,
   "metadata": {},
   "outputs": [],
   "source": [
    "#saving cleaned data to csv\n",
    "#train_data_enc.to_csv(r'./Data/train_data_cleaned.csv')"
   ]
  },
  {
   "cell_type": "code",
   "execution_count": 126,
   "metadata": {},
   "outputs": [
    {
     "data": {
      "text/plain": [
       "Series([], dtype: int64)"
      ]
     },
     "execution_count": 126,
     "metadata": {},
     "output_type": "execute_result"
    }
   ],
   "source": [
    "test_data.isnull().sum()[test_data.isnull().sum() > 0]"
   ]
  },
  {
   "cell_type": "markdown",
   "metadata": {},
   "source": [
    "### Level Encoding categorical variable"
   ]
  },
  {
   "cell_type": "markdown",
   "metadata": {},
   "source": [
    "#### For ordinal variable -> Categories are Ordered -> Ordered numerical levels "
   ]
  },
  {
   "cell_type": "markdown",
   "metadata": {},
   "source": [
    "Ordinal variable -> LotShape, LandContour, Utilities,LandSlope,ExterQual, ExterCond, BsmtQual, BsmtCond, BsmtExposure, BsmtFinType1, BsmtFinType2, HeatingQC, KitchenQual, Functional, FireplaceQu,GarageFinish,GarageQual, GarageCond, PavedDrive, PoolQC, Fence, Street, Alley"
   ]
  },
  {
   "cell_type": "code",
   "execution_count": 127,
   "metadata": {},
   "outputs": [
    {
     "data": {
      "text/plain": [
       "Y    1338\n",
       "N      90\n",
       "P      30\n",
       "Name: PavedDrive, dtype: int64"
      ]
     },
     "execution_count": 127,
     "metadata": {},
     "output_type": "execute_result"
    }
   ],
   "source": [
    "train_data_pro['PavedDrive'].value_counts()"
   ]
  },
  {
   "cell_type": "code",
   "execution_count": 128,
   "metadata": {},
   "outputs": [],
   "source": [
    "# Replacing ordinal categorical variable with numbers\n",
    "train_data_enc = train_data_pro.replace({\"LotShape\": {\"IR3\" : 1, \"IR2\" : 2, \"IR1\" : 3, \"Reg\" : 4},\n",
    "                                          \"LandContour\":{\"Low\" : 1, \"HLS\" : 2, \"Bnk\" : 3, \"Lvl\" : 4},\n",
    "                                          \"LandSlope\" : {\"Sev\" : 1, \"Mod\" : 2, \"Gtl\" : 3},\n",
    "                                          \"Utilities\" : {\"ELO\" : 1, \"NoSeWa\" : 2, \"NoSewr\" : 3, \"AllPub\" : 4},\n",
    "                                          \"ExterCond\" : {\"Po\" : 1, \"Fa\" : 2, \"TA\": 3, \"Gd\": 4, \"Ex\" : 5},\n",
    "                                          \"ExterQual\" : {\"Po\" : 1, \"Fa\" : 2, \"TA\": 3, \"Gd\": 4, \"Ex\" : 5},\n",
    "                                          \"BsmtCond\" : {\"none\" : 0, \"Po\" : 1, \"Fa\" : 2, \"TA\" : 3, \"Gd\" : 4, \"Ex\" : 5},\n",
    "                                          \"BsmtQual\" : {\"none\" : 0, \"Po\" : 1, \"Fa\" : 2, \"TA\" : 3, \"Gd\" : 4, \"Ex\" : 5},\n",
    "                                          \"BsmtExposure\" : {\"none\" : 0, \"No\" : 1, \"Mn\" : 2, \"Av\": 3, \"Gd\" : 4},\n",
    "                                          \"BsmtFinType1\" : {\"none\" : 0, \"Unf\" : 1, \"LwQ\": 2, \"Rec\" : 3, \"BLQ\" : 4, \"ALQ\" : 5, \"GLQ\" : 6},\n",
    "                                          \"BsmtFinType2\" : {\"none\" : 0, \"Unf\" : 1, \"LwQ\": 2, \"Rec\" : 3, \"BLQ\" : 4, \"ALQ\" : 5, \"GLQ\" : 6},\n",
    "                                          \"HeatingQC\" : {\"Po\" : 1, \"Fa\" : 2, \"TA\" : 3, \"Gd\" : 4, \"Ex\" : 5},\n",
    "                                          \"KitchenQual\" : {\"Po\" : 1, \"Fa\" : 2, \"TA\" : 3, \"Gd\" : 4, \"Ex\" : 5},\n",
    "                                           \"Functional\" : {\"Sal\" : 1, \"Sev\" : 2, \"Maj2\" : 3, \"Maj1\" : 4, \"Mod\": 5, \n",
    "                                       \"Min2\" : 6, \"Min1\" : 7, \"Typ\" : 8},\n",
    "                                          \"FireplaceQu\" : {\"none\" : 0, \"Po\" : 1, \"Fa\" : 2, \"TA\" : 3, \"Gd\" : 4, \"Ex\" : 5},\n",
    "                                           \"GarageFinish\" : {\"none\" : 0, \"Unf\" : 1, \"RFn\" : 2,  \"Fin\": 3},\n",
    "                                           \"GarageQual\" : {\"none\" : 0, \"Po\" : 1, \"Fa\" : 2, \"TA\" : 3, \"Gd\" : 4, \"Ex\" : 5},\n",
    "                                           \"GarageCond\" : {\"none\" : 0, \"Po\" : 1, \"Fa\" : 2, \"TA\" : 3, \"Gd\" : 4, \"Ex\" : 5},\n",
    "                                           \"PavedDrive\" : {\"N\" : 0, \"P\" : 1, \"Y\" : 2},\n",
    "                                           \"PoolQC\" : {\"none\" : 0, \"Fa\" : 1, \"TA\" : 2, \"Gd\" : 3, \"Ex\" : 4},\n",
    "                                           \"Fence\" : {\"none\" : 0, \"MnWw\" : 1, \"GdWo\" : 2, \"MnPrv\" : 3, \"GdPrv\" : 4},\n",
    "                                           \"Street\" : {\"Grvl\" : 1, \"Pave\" : 2},\n",
    "                                           \"Alley\" : {\"none\" : 0, \"Grvl\" : 1, \"Pave\" : 2},\n",
    "                                           })"
   ]
  },
  {
   "cell_type": "code",
   "execution_count": null,
   "metadata": {},
   "outputs": [],
   "source": []
  },
  {
   "cell_type": "code",
   "execution_count": null,
   "metadata": {},
   "outputs": [],
   "source": []
  },
  {
   "cell_type": "code",
   "execution_count": 129,
   "metadata": {},
   "outputs": [],
   "source": [
    "# Converting ordinal columns into integers\n",
    "train_data_enc['LotShape'].astype(str).astype(int)\n",
    "train_data_enc['LandContour'].astype(str).astype(int)\n",
    "train_data_enc['LandSlope'].astype(str).astype(int)\n",
    "train_data_enc['Utilities'].astype(str).astype(int)\n",
    "train_data_enc['ExterCond'].astype(str).astype(int)\n",
    "train_data_enc['ExterQual'].astype(str).astype(int)\n",
    "train_data_enc['BsmtCond'].astype(str).astype(int)\n",
    "train_data_enc['BsmtQual'].astype(str).astype(int)\n",
    "train_data_enc['BsmtExposure'].astype(str).astype(int)\n",
    "train_data_enc['BsmtFinType1'].astype(str).astype(int)\n",
    "train_data_enc['BsmtFinType2'].astype(str).astype(int)\n",
    "train_data_enc['HeatingQC'].astype(str).astype(int)\n",
    "train_data_enc['KitchenQual'].astype(str).astype(int)\n",
    "train_data_enc['Functional'].astype(str).astype(int)\n",
    "train_data_enc['FireplaceQu'].astype(str).astype(int)\n",
    "train_data_enc['GarageFinish'].astype(str).astype(int)\n",
    "train_data_enc['GarageQual'].astype(str).astype(int)\n",
    "train_data_enc['GarageCond'].astype(str).astype(int)\n",
    "train_data_enc['PavedDrive'].astype(str).astype(int)\n",
    "train_data_enc['PoolQC'].astype(str).astype(int)\n",
    "train_data_enc['Fence'].astype(str).astype(int)\n",
    "train_data_enc['Street'].astype(str).astype(int)\n",
    "train_data_enc['Alley'].astype(str).astype(int);"
   ]
  },
  {
   "cell_type": "code",
   "execution_count": null,
   "metadata": {},
   "outputs": [],
   "source": []
  },
  {
   "cell_type": "code",
   "execution_count": 130,
   "metadata": {},
   "outputs": [],
   "source": [
    "# Replacing ordinal categorical variable with numbers for test data_set\n",
    "test_data = test_data.replace({\"LotShape\": {\"IR3\" : 1, \"IR2\" : 2, \"IR1\" : 3, \"Reg\" : 4},\n",
    "                                          \"LandContour\":{\"Low\" : 1, \"HLS\" : 2, \"Bnk\" : 3, \"Lvl\" : 4},\n",
    "                                          \"LandSlope\" : {\"Sev\" : 1, \"Mod\" : 2, \"Gtl\" : 3},\n",
    "                                          \"Utilities\" : {\"ELO\" : 1, \"NoSeWa\" : 2, \"NoSewr\" : 3, \"AllPub\" : 4},\n",
    "                                          \"ExterCond\" : {\"Po\" : 1, \"Fa\" : 2, \"TA\": 3, \"Gd\": 4, \"Ex\" : 5},\n",
    "                                          \"ExterQual\" : {\"Po\" : 1, \"Fa\" : 2, \"TA\": 3, \"Gd\": 4, \"Ex\" : 5},\n",
    "                                          \"BsmtCond\" : {\"none\" : 0, \"Po\" : 1, \"Fa\" : 2, \"TA\" : 3, \"Gd\" : 4, \"Ex\" : 5},\n",
    "                                          \"BsmtQual\" : {\"none\" : 0, \"Po\" : 1, \"Fa\" : 2, \"TA\" : 3, \"Gd\" : 4, \"Ex\" : 5},\n",
    "                                          \"BsmtExposure\" : {\"none\" : 0, \"No\" : 1, \"Mn\" : 2, \"Av\": 3, \"Gd\" : 4},\n",
    "                                          \"BsmtFinType1\" : {\"none\" : 0, \"Unf\" : 1, \"LwQ\": 2, \"Rec\" : 3, \"BLQ\" : 4, \"ALQ\" : 5, \"GLQ\" : 6},\n",
    "                                          \"BsmtFinType2\" : {\"none\" : 0, \"Unf\" : 1, \"LwQ\": 2, \"Rec\" : 3, \"BLQ\" : 4, \"ALQ\" : 5, \"GLQ\" : 6},\n",
    "                                          \"HeatingQC\" : {\"Po\" : 1, \"Fa\" : 2, \"TA\" : 3, \"Gd\" : 4, \"Ex\" : 5},\n",
    "                                          \"KitchenQual\" : {\"Po\" : 1, \"Fa\" : 2, \"TA\" : 3, \"Gd\" : 4, \"Ex\" : 5},\n",
    "                                           \"Functional\" : {\"Sal\" : 1, \"Sev\" : 2, \"Maj2\" : 3, \"Maj1\" : 4, \"Mod\": 5, \n",
    "                                       \"Min2\" : 6, \"Min1\" : 7, \"Typ\" : 8},\n",
    "                                          \"FireplaceQu\" : {\"none\" : 0, \"Po\" : 1, \"Fa\" : 2, \"TA\" : 3, \"Gd\" : 4, \"Ex\" : 5},\n",
    "                                           \"GarageFinish\" : {\"none\" : 0, \"Unf\" : 1, \"RFn\" : 2,  \"Fin\": 3},\n",
    "                                           \"GarageQual\" : {\"none\" : 0, \"Po\" : 1, \"Fa\" : 2, \"TA\" : 3, \"Gd\" : 4, \"Ex\" : 5},\n",
    "                                           \"GarageCond\" : {\"none\" : 0, \"Po\" : 1, \"Fa\" : 2, \"TA\" : 3, \"Gd\" : 4, \"Ex\" : 5},\n",
    "                                           \"PavedDrive\" : {\"N\" : 0, \"P\" : 1, \"Y\" : 2},\n",
    "                                           \"PoolQC\" : {\"none\" : 0, \"Fa\" : 1, \"TA\" : 2, \"Gd\" : 3, \"Ex\" : 4},\n",
    "                                           \"Fence\" : {\"none\" : 0, \"MnWw\" : 1, \"GdWo\" : 2, \"MnPrv\" : 3, \"GdPrv\" : 4},\n",
    "                                           \"Street\" : {\"Grvl\" : 1, \"Pave\" : 2},\n",
    "                                           \"Alley\" : {\"none\" : 0, \"Grvl\" : 1, \"Pave\" : 2},\n",
    "                                           })"
   ]
  },
  {
   "cell_type": "code",
   "execution_count": 131,
   "metadata": {},
   "outputs": [],
   "source": [
    "# Converting ordinal columns into integers for test data\n",
    "test_data['LotShape'].astype(str).astype(int)\n",
    "test_data['LandContour'].astype(str).astype(int)\n",
    "test_data['LandSlope'].astype(str).astype(int)\n",
    "test_data['Utilities'].astype(str).astype(int)\n",
    "test_data['ExterCond'].astype(str).astype(int)\n",
    "test_data['ExterQual'].astype(str).astype(int)\n",
    "test_data['BsmtCond'].astype(str).astype(int)\n",
    "test_data['BsmtQual'].astype(str).astype(int)\n",
    "test_data['BsmtExposure'].astype(str).astype(int)\n",
    "test_data['BsmtFinType1'].astype(str).astype(int)\n",
    "test_data['BsmtFinType2'].astype(str).astype(int)\n",
    "test_data['HeatingQC'].astype(str).astype(int)\n",
    "test_data['KitchenQual'].astype(str).astype(int)\n",
    "test_data['Functional'].astype(str).astype(int)\n",
    "test_data['FireplaceQu'].astype(str).astype(int)\n",
    "test_data['GarageFinish'].astype(str).astype(int)\n",
    "test_data['GarageQual'].astype(str).astype(int)\n",
    "test_data['GarageCond'].astype(str).astype(int)\n",
    "test_data['PavedDrive'].astype(str).astype(int)\n",
    "test_data['PoolQC'].astype(str).astype(int)\n",
    "test_data['Fence'].astype(str).astype(int)\n",
    "test_data['Street'].astype(str).astype(int)\n",
    "test_data['Alley'].astype(str).astype(int);"
   ]
  },
  {
   "cell_type": "code",
   "execution_count": null,
   "metadata": {},
   "outputs": [],
   "source": []
  },
  {
   "cell_type": "markdown",
   "metadata": {},
   "source": [
    "### Feature engineering "
   ]
  },
  {
   "cell_type": "code",
   "execution_count": 132,
   "metadata": {},
   "outputs": [],
   "source": [
    "train_data_feng = train_data_enc # Data with feature engineering"
   ]
  },
  {
   "cell_type": "code",
   "execution_count": null,
   "metadata": {},
   "outputs": [],
   "source": []
  },
  {
   "cell_type": "code",
   "execution_count": 133,
   "metadata": {},
   "outputs": [],
   "source": [
    "# Define general correlation function for both numeric and categorical\n",
    "\n",
    "def correlation_total(dataframe, lower_threshold, upper_threshold):\n",
    "    for i in dataframe.columns:\n",
    "        for j in dataframe.columns:\n",
    "            if dataframe[i].dtype != 'object' and dataframe[j].dtype != 'object': # if numerical\n",
    "                if (abs(pearsonr(dataframe[i], dataframe[j])[0]) >= lower_threshold) and (abs(pearsonr(dataframe[i], dataframe[j])[0]) <= upper_threshold):\n",
    "                    yield (pearsonr(dataframe[i], dataframe[j])[0], i, j)\n",
    "                    \n",
    "            else:\n",
    "                if (abs(spearmanr(dataframe[i], dataframe[j])[0]) >= lower_threshold) and (abs(spearmanr(dataframe[i], dataframe[j])[0]) <= upper_threshold):\n",
    "                    yield (spearmanr(dataframe[i], dataframe[j])[0], i, j)"
   ]
  },
  {
   "cell_type": "code",
   "execution_count": 134,
   "metadata": {},
   "outputs": [
    {
     "data": {
      "text/plain": [
       "[(0.8214046894649683, 'OverallQual', 'SalePrice'),\n",
       " (0.8582289536590632, 'Exterior1st', 'Exterior2nd'),\n",
       " (0.858228953659063, 'Exterior2nd', 'Exterior1st'),\n",
       " (-0.9019258235769831, 'BsmtFinType2', 'BsmtFinSF2'),\n",
       " (-0.901925823576983, 'BsmtFinSF2', 'BsmtFinType2'),\n",
       " (0.8038296279256132, 'TotalBsmtSF', '1stFlrSF'),\n",
       " (0.8038296279256132, '1stFlrSF', 'TotalBsmtSF'),\n",
       " (0.8294981976715325, 'GrLivArea', 'TotRmsAbvGrd'),\n",
       " (0.8294981976715325, 'TotRmsAbvGrd', 'GrLivArea'),\n",
       " (-0.8933654220072471, 'Fireplaces', 'FireplaceQu'),\n",
       " (-0.8933654220072471, 'FireplaceQu', 'Fireplaces'),\n",
       " (0.8873044983919187, 'GarageCars', 'GarageArea'),\n",
       " (0.8873044983919187, 'GarageArea', 'GarageCars'),\n",
       " (0.8099691212359648, 'GarageQual', 'GarageCond'),\n",
       " (0.8099691212359648, 'GarageCond', 'GarageQual'),\n",
       " (-0.9797876503728653, 'MiscFeature', 'MiscVal'),\n",
       " (-0.9797876503728652, 'MiscVal', 'MiscFeature'),\n",
       " (0.8214046894649683, 'SalePrice', 'OverallQual')]"
      ]
     },
     "execution_count": 134,
     "metadata": {},
     "output_type": "execute_result"
    }
   ],
   "source": [
    "# General correlations > 0.8 but not the same features\n",
    "list(correlation_total(train_data_pro, 0.8, 0.99))"
   ]
  },
  {
   "cell_type": "code",
   "execution_count": 135,
   "metadata": {},
   "outputs": [],
   "source": [
    "# Bedroom Ratio\n",
    "train_data_feng['BedroomRatio'] = train_data_feng['BedroomAbvGr']/train_data_feng['TotRmsAbvGrd']\n",
    "# Average bedroom size\n",
    "train_data_feng['AvgRoomSize'] = train_data_feng['GrLivArea']/train_data_feng['TotRmsAbvGrd']"
   ]
  },
  {
   "cell_type": "code",
   "execution_count": null,
   "metadata": {},
   "outputs": [],
   "source": []
  },
  {
   "cell_type": "markdown",
   "metadata": {},
   "source": [
    " Combine Quality & Conditions in the attributes"
   ]
  },
  {
   "cell_type": "code",
   "execution_count": 136,
   "metadata": {},
   "outputs": [],
   "source": [
    "# Garage \n",
    "train_data_feng['GarageScore'] = train_data_feng['GarageQual'] * train_data_feng['GarageCond']\n",
    "# Overall\n",
    "train_data_feng['OverallScore'] = train_data_feng['OverallQual'] * train_data_feng['OverallCond']\n",
    "# Exterior\n",
    "train_data_feng['ExterScore'] = train_data_feng['ExterQual'] * train_data_feng['ExterCond']\n",
    "# Basement\n",
    "train_data_feng['BsmtScore1'] = train_data_feng['BsmtQual'] * train_data_feng['BsmtCond']\n",
    "train_data_feng['BsmtScore2'] = train_data_feng['BsmtQual'] * train_data_feng['BsmtCond'] * train_data_feng['BsmtExposure']\n",
    "\n",
    "# Combine quality and quantity\n",
    "# Kitchen\n",
    "train_data_feng['KitchenScore'] = train_data_feng['KitchenQual'] * train_data_feng['KitchenAbvGr']\n",
    "# Fireplace\n",
    "train_data_feng['FireplaceScore'] = train_data_feng['FireplaceQu'] * train_data_feng['Fireplaces']\n",
    "# Pool\n",
    "train_data_feng['PoolScore'] = train_data_feng['PoolArea'] * train_data_feng['PoolQC']\n",
    "# Basement type\n",
    "train_data_feng['BsmtFin1Score'] = train_data_feng['BsmtFinSF1'] * train_data_feng['BsmtFinType1']\n",
    "train_data_feng['BsmtFin2Score'] = train_data_feng['BsmtFinSF1'] * train_data_feng['BsmtFinType1']\n",
    "# 1st floor + 2nd floor area\n",
    "train_data_feng['TotFlrSF'] = train_data_feng['1stFlrSF'] + train_data_feng['2ndFlrSF']\n",
    "# Total bath\n",
    "train_data_feng['TotBath'] = train_data_feng['FullBath'] + 0.5*train_data_feng['HalfBath']\n",
    "# Total Basement Bath\n",
    "train_data_feng['TotBsmtBath'] = train_data_feng['BsmtFullBath'] + 0.5*train_data_feng['BsmtHalfBath']\n",
    "# Total Baths combined\n",
    "train_data_feng['TotCombBath'] = train_data_feng['FullBath'] + 0.5*train_data_feng['HalfBath'] + train_data_feng['BsmtFullBath'] + 0.5*train_data_feng['BsmtHalfBath']\n",
    "# Total Surface Area (House SF + Basement SF)\n",
    "train_data_feng['TotSF'] = train_data_feng['GrLivArea'] + train_data_feng['TotalBsmtSF']"
   ]
  },
  {
   "cell_type": "code",
   "execution_count": null,
   "metadata": {},
   "outputs": [],
   "source": []
  },
  {
   "cell_type": "markdown",
   "metadata": {},
   "source": [
    "#### Identical Feature engineering for test set "
   ]
  },
  {
   "cell_type": "code",
   "execution_count": 137,
   "metadata": {},
   "outputs": [],
   "source": [
    "# Feature combination for test dataset\n",
    "# Bedroom Ratio\n",
    "test_data['BedroomRatio'] = test_data['BedroomAbvGr']/test_data['TotRmsAbvGrd']\n",
    "# Average bedroom size\n",
    "test_data['AvgRoomSize'] = test_data['GrLivArea']/test_data['TotRmsAbvGrd']\n",
    "# Garage \n",
    "test_data['GarageScore'] = test_data['GarageQual'] * test_data['GarageCond']\n",
    "# Overall\n",
    "test_data['OverallScore'] = test_data['OverallQual'] * test_data['OverallCond']\n",
    "# Exterior\n",
    "test_data['ExterScore'] = test_data['ExterQual'] * test_data['ExterCond']\n",
    "# Basement\n",
    "test_data['BsmtScore1'] = test_data['BsmtQual'] * test_data['BsmtCond']\n",
    "test_data['BsmtScore2'] = test_data['BsmtQual'] * test_data['BsmtCond'] * test_data['BsmtExposure']\n",
    "\n",
    "# Combine quality and quantity\n",
    "# Kitchen\n",
    "test_data['KitchenScore'] = test_data['KitchenQual'] * test_data['KitchenAbvGr']\n",
    "# Fireplace\n",
    "test_data['FireplaceScore'] = test_data['FireplaceQu'] * test_data['Fireplaces']\n",
    "# Pool\n",
    "test_data['PoolScore'] = test_data['PoolArea'] * test_data['PoolQC']\n",
    "# Basement type\n",
    "test_data['BsmtFin1Score'] = test_data['BsmtFinSF1'] * test_data['BsmtFinType1']\n",
    "test_data['BsmtFin2Score'] = test_data['BsmtFinSF1'] * test_data['BsmtFinType1']\n",
    "# 1st floor + 2nd floor area\n",
    "test_data['TotFlrSF'] = test_data['1stFlrSF'] + test_data['2ndFlrSF']\n",
    "# Total bath\n",
    "test_data['TotBath'] = test_data['FullBath'] + 0.5*test_data['HalfBath']\n",
    "# Total Basement Bath\n",
    "test_data['TotBsmtBath'] = test_data['BsmtFullBath'] + 0.5*test_data['BsmtHalfBath']\n",
    "# Total Baths combined\n",
    "test_data['TotCombBath'] = test_data['FullBath'] + 0.5*test_data['HalfBath'] + test_data['BsmtFullBath'] + 0.5*test_data['BsmtHalfBath']\n",
    "# Total Surface Area (House SF + Basement SF)\n",
    "test_data['TotSF'] = test_data['GrLivArea'] + test_data['TotalBsmtSF']"
   ]
  },
  {
   "cell_type": "code",
   "execution_count": 138,
   "metadata": {},
   "outputs": [],
   "source": [
    "#saving data to csv\n",
    "#train_data_feng.to_csv(r'./train_data_feng.csv')"
   ]
  },
  {
   "cell_type": "markdown",
   "metadata": {},
   "source": [
    "### Encoding categorical variable\n",
    "#### One-hot encoding"
   ]
  },
  {
   "cell_type": "markdown",
   "metadata": {},
   "source": [
    "We must ensure that the training set and the test set have same columns after One-hot encoding.\n",
    "We can add the two set then perform OHE but that might lead to data leakage\n",
    "So instead we use the align command.\n",
    "The align command makes sure the columns show up in the same order in both datasets (it uses column names to identify which columns line up in each dataset.) The argument join='left' specifies that we will do the equivalent of SQL's left join."
   ]
  },
  {
   "cell_type": "code",
   "execution_count": 139,
   "metadata": {},
   "outputs": [],
   "source": [
    "# Create the X, y matrices\n",
    "# All possible features (all columns)\n",
    "X = train_data_feng.loc[:, train_data_feng.columns != 'SalePrice']\n",
    "y = train_data_feng['SalePrice']\n",
    "Xt = test_data"
   ]
  },
  {
   "cell_type": "code",
   "execution_count": null,
   "metadata": {},
   "outputs": [],
   "source": []
  },
  {
   "cell_type": "code",
   "execution_count": 140,
   "metadata": {},
   "outputs": [],
   "source": [
    "X_ohe = pd.get_dummies(train_data_feng)\n",
    "Xt = pd.get_dummies(Xt)\n",
    "X_final, Xtest_final = X_ohe.align(Xt, join='left', axis=1)"
   ]
  },
  {
   "cell_type": "code",
   "execution_count": 141,
   "metadata": {},
   "outputs": [],
   "source": [
    "# Due to the align command, there are additional columns in test data (extra category of training) which have NA values. These are filled with 0.\n",
    "Xtest_final.fillna(0, inplace = True)"
   ]
  },
  {
   "cell_type": "code",
   "execution_count": 142,
   "metadata": {},
   "outputs": [],
   "source": [
    "#X_final.to_csv(r'./X_final.csv')"
   ]
  },
  {
   "cell_type": "markdown",
   "metadata": {},
   "source": [
    "### Feature Scaling"
   ]
  },
  {
   "cell_type": "markdown",
   "metadata": {},
   "source": [
    "Standardization -> subtract mean value then divide by standard deviation"
   ]
  },
  {
   "cell_type": "code",
   "execution_count": 143,
   "metadata": {},
   "outputs": [],
   "source": [
    "from sklearn.preprocessing import StandardScaler\n",
    "std_sc = StandardScaler()\n",
    "sf = std_sc.fit_transform(X_final.values) # feature scaled (return numpy array)\n",
    "X_final_sc = pd.DataFrame(sf, index=X_final.index, columns=X_final.columns) # convert back to dataframe\n",
    "Xtest_final_sc = std_sc.fit_transform(Xtest_final) # feature scaled test set "
   ]
  },
  {
   "cell_type": "markdown",
   "metadata": {},
   "source": [
    "## Training different ML model for regression\n",
    "### Linear regression"
   ]
  },
  {
   "cell_type": "code",
   "execution_count": 144,
   "metadata": {},
   "outputs": [
    {
     "data": {
      "text/plain": [
       "LinearRegression(copy_X=True, fit_intercept=True, n_jobs=None, normalize=False)"
      ]
     },
     "execution_count": 144,
     "metadata": {},
     "output_type": "execute_result"
    }
   ],
   "source": [
    "from sklearn.linear_model import LinearRegression\n",
    "LR_reg = LinearRegression()\n",
    "LR_reg.fit(X_final,y)"
   ]
  },
  {
   "cell_type": "code",
   "execution_count": 145,
   "metadata": {},
   "outputs": [],
   "source": [
    "#predicting training set\n",
    "y_pred_LR = LR_reg.predict(X_final)"
   ]
  },
  {
   "cell_type": "code",
   "execution_count": 146,
   "metadata": {},
   "outputs": [
    {
     "name": "stdout",
     "output_type": "stream",
     "text": [
      "[[12.24769912 12.24769912]\n",
      " [12.10901644 12.10901644]\n",
      " [12.31717117 12.31717117]\n",
      " ...\n",
      " [12.49313327 12.49313327]\n",
      " [11.86446927 11.86446927]\n",
      " [11.90159023 11.90159023]]\n"
     ]
    }
   ],
   "source": [
    "# compare y with predicted y for training set (Log SalePrice)\n",
    "print(np.c_[y, y_pred_LR])"
   ]
  },
  {
   "cell_type": "markdown",
   "metadata": {},
   "source": [
    "#### Evaluation"
   ]
  },
  {
   "cell_type": "markdown",
   "metadata": {},
   "source": [
    "Evaluation measure -> root mean square error"
   ]
  },
  {
   "cell_type": "code",
   "execution_count": 147,
   "metadata": {},
   "outputs": [
    {
     "data": {
      "text/plain": [
       "1.5985360229624892e-13"
      ]
     },
     "execution_count": 147,
     "metadata": {},
     "output_type": "execute_result"
    }
   ],
   "source": [
    "# Calculating root mean squared error\n",
    "from sklearn.metrics import mean_squared_error\n",
    "LR_mse = mean_squared_error(y,y_pred_LR) # mean square error\n",
    "LR_rmse = np.sqrt(LR_mse) # root mean square error \n",
    "LR_rmse"
   ]
  },
  {
   "cell_type": "code",
   "execution_count": 148,
   "metadata": {},
   "outputs": [
    {
     "data": {
      "text/plain": [
       "3.020721074446756e-08"
      ]
     },
     "execution_count": 148,
     "metadata": {},
     "output_type": "execute_result"
    }
   ],
   "source": [
    "# For actualy values and not log. \n",
    "LR_mse = mean_squared_error(np.expm1(y),np.expm1(y_pred_LR)) # mean square error\n",
    "LR_rmse = np.sqrt(LR_mse) # root mean square error \n",
    "LR_rmse"
   ]
  },
  {
   "cell_type": "markdown",
   "metadata": {},
   "source": [
    "#### Analyzing coefficients"
   ]
  },
  {
   "cell_type": "code",
   "execution_count": 149,
   "metadata": {},
   "outputs": [
    {
     "data": {
      "text/html": [
       "<div>\n",
       "<style scoped>\n",
       "    .dataframe tbody tr th:only-of-type {\n",
       "        vertical-align: middle;\n",
       "    }\n",
       "\n",
       "    .dataframe tbody tr th {\n",
       "        vertical-align: top;\n",
       "    }\n",
       "\n",
       "    .dataframe thead th {\n",
       "        text-align: right;\n",
       "    }\n",
       "</style>\n",
       "<table border=\"1\" class=\"dataframe\">\n",
       "  <thead>\n",
       "    <tr style=\"text-align: right;\">\n",
       "      <th></th>\n",
       "      <th>Coefficient</th>\n",
       "    </tr>\n",
       "  </thead>\n",
       "  <tbody>\n",
       "    <tr>\n",
       "      <th>SalePrice</th>\n",
       "      <td>1.000000e+00</td>\n",
       "    </tr>\n",
       "    <tr>\n",
       "      <th>RoofStyle_Shed</th>\n",
       "      <td>4.292836e-13</td>\n",
       "    </tr>\n",
       "    <tr>\n",
       "      <th>HouseStyle_2.5Fin</th>\n",
       "      <td>3.942262e-13</td>\n",
       "    </tr>\n",
       "    <tr>\n",
       "      <th>Condition2_RRAe</th>\n",
       "      <td>3.532482e-13</td>\n",
       "    </tr>\n",
       "    <tr>\n",
       "      <th>RoofMatl_Roll</th>\n",
       "      <td>3.258469e-13</td>\n",
       "    </tr>\n",
       "    <tr>\n",
       "      <th>BsmtScore2_80</th>\n",
       "      <td>3.246744e-13</td>\n",
       "    </tr>\n",
       "    <tr>\n",
       "      <th>RoofMatl_Metal</th>\n",
       "      <td>3.105320e-13</td>\n",
       "    </tr>\n",
       "    <tr>\n",
       "      <th>BsmtScore2_4</th>\n",
       "      <td>3.080859e-13</td>\n",
       "    </tr>\n",
       "    <tr>\n",
       "      <th>Heating_Floor</th>\n",
       "      <td>2.971502e-13</td>\n",
       "    </tr>\n",
       "    <tr>\n",
       "      <th>Condition2_PosN</th>\n",
       "      <td>2.873378e-13</td>\n",
       "    </tr>\n",
       "  </tbody>\n",
       "</table>\n",
       "</div>"
      ],
      "text/plain": [
       "                    Coefficient\n",
       "SalePrice          1.000000e+00\n",
       "RoofStyle_Shed     4.292836e-13\n",
       "HouseStyle_2.5Fin  3.942262e-13\n",
       "Condition2_RRAe    3.532482e-13\n",
       "RoofMatl_Roll      3.258469e-13\n",
       "BsmtScore2_80      3.246744e-13\n",
       "RoofMatl_Metal     3.105320e-13\n",
       "BsmtScore2_4       3.080859e-13\n",
       "Heating_Floor      2.971502e-13\n",
       "Condition2_PosN    2.873378e-13"
      ]
     },
     "execution_count": 149,
     "metadata": {},
     "output_type": "execute_result"
    }
   ],
   "source": [
    "fcoeff = pd.DataFrame(LR_reg.coef_, index = X_final.columns, columns=['Coefficient'])\n",
    "# Top 10 coefficients (absolute values)\n",
    "fcoeff.abs().sort_values(by=['Coefficient'], ascending=False).head(10)"
   ]
  },
  {
   "cell_type": "code",
   "execution_count": 150,
   "metadata": {},
   "outputs": [
    {
     "name": "stdout",
     "output_type": "stream",
     "text": [
      "1.1798562127296464e-11\n"
     ]
    }
   ],
   "source": [
    "# print the intercept\n",
    "print(LR_reg.intercept_)"
   ]
  },
  {
   "cell_type": "markdown",
   "metadata": {},
   "source": [
    "#### K-Fold Cross verification"
   ]
  },
  {
   "cell_type": "code",
   "execution_count": 151,
   "metadata": {},
   "outputs": [],
   "source": [
    "# Applying k-Fold Cross Validation\n",
    "from sklearn.model_selection import cross_val_score\n",
    "score = cross_val_score(LR_reg, X = X_final, y = y, scoring=\"neg_mean_squared_error\", cv=10)\n",
    "LR_rmse_score = np.sqrt(-score)"
   ]
  },
  {
   "cell_type": "code",
   "execution_count": 152,
   "metadata": {},
   "outputs": [
    {
     "data": {
      "text/plain": [
       "array([3.70710201e-14, 2.18007472e-12, 1.14025199e-13, 1.06634475e-12,\n",
       "       4.38461226e-12, 1.57155639e-13, 1.70340044e-13, 1.18389196e-12,\n",
       "       1.42292648e-13, 8.81031991e-14])"
      ]
     },
     "execution_count": 152,
     "metadata": {},
     "output_type": "execute_result"
    }
   ],
   "source": [
    "LR_rmse_score"
   ]
  },
  {
   "cell_type": "code",
   "execution_count": 153,
   "metadata": {},
   "outputs": [
    {
     "data": {
      "text/plain": [
       "9.523911444036823e-13"
      ]
     },
     "execution_count": 153,
     "metadata": {},
     "output_type": "execute_result"
    }
   ],
   "source": [
    "LR_rmse_score.mean()"
   ]
  },
  {
   "cell_type": "markdown",
   "metadata": {},
   "source": [
    "Too low value of error. Must be some issue (overfitting, multicolinearity etc)"
   ]
  },
  {
   "cell_type": "code",
   "execution_count": 154,
   "metadata": {},
   "outputs": [
    {
     "data": {
      "image/png": "[encoded data removed]",
      "text/plain": [
       "<Figure size 432x288 with 1 Axes>"
      ]
     },
     "metadata": {
      "needs_background": "light"
     },
     "output_type": "display_data"
    }
   ],
   "source": [
    "# Plot important coefficients\n",
    "fcoeff1 =  fcoeff[(fcoeff['Coefficient'].abs() > 2.5e-13) & (fcoeff['Coefficient'].abs() < 0.99) ]\n",
    "fcoeff1.plot(kind = \"barh\")\n",
    "plt.title(\"Coefficients\")\n",
    "plt.show()"
   ]
  },
  {
   "cell_type": "markdown",
   "metadata": {},
   "source": [
    "GarageType none has maximum coefficient is counterintuitive. Not sure if this is correct."
   ]
  },
  {
   "cell_type": "markdown",
   "metadata": {},
   "source": []
  },
  {
   "cell_type": "markdown",
   "metadata": {},
   "source": [
    "#### Try With feature scaling "
   ]
  },
  {
   "cell_type": "code",
   "execution_count": 155,
   "metadata": {},
   "outputs": [],
   "source": [
    "#predicting training set with feature scaling\n",
    "from sklearn.linear_model import LinearRegression\n",
    "LR_reg = LinearRegression()\n",
    "LR_reg.fit(X_final_sc,y)\n",
    "y_pred_LR_sc = LR_reg.predict(X_final_sc)"
   ]
  },
  {
   "cell_type": "code",
   "execution_count": null,
   "metadata": {},
   "outputs": [],
   "source": []
  },
  {
   "cell_type": "code",
   "execution_count": 156,
   "metadata": {},
   "outputs": [
    {
     "name": "stdout",
     "output_type": "stream",
     "text": [
      "[[12.24769912 12.24769912 12.24769912]\n",
      " [12.10901644 12.10901644 12.10901644]\n",
      " [12.31717117 12.31717117 12.31717117]\n",
      " ...\n",
      " [12.49313327 12.49313327 12.49313327]\n",
      " [11.86446927 11.86446927 11.86446927]\n",
      " [11.90159023 11.90159023 11.90159023]]\n"
     ]
    }
   ],
   "source": [
    "# compare y with predicted y for training set (Log SalePrice)\n",
    "print(np.c_[y, y_pred_LR,y_pred_LR_sc ])"
   ]
  },
  {
   "cell_type": "markdown",
   "metadata": {},
   "source": [
    "Looks similar"
   ]
  },
  {
   "cell_type": "code",
   "execution_count": 157,
   "metadata": {},
   "outputs": [
    {
     "data": {
      "text/plain": [
       "2.1394721440079834e-15"
      ]
     },
     "execution_count": 157,
     "metadata": {},
     "output_type": "execute_result"
    }
   ],
   "source": [
    "# Calculating root mean squared error\n",
    "from sklearn.metrics import mean_squared_error\n",
    "LR_mse_sc = mean_squared_error(y,y_pred_LR_sc) # mean square error\n",
    "LR_rmse_sc = np.sqrt(LR_mse_sc) # root mean square error \n",
    "LR_rmse_sc"
   ]
  },
  {
   "cell_type": "code",
   "execution_count": null,
   "metadata": {},
   "outputs": [],
   "source": []
  },
  {
   "cell_type": "markdown",
   "metadata": {},
   "source": [
    "\n",
    "#### K-fold verification with feature scaling"
   ]
  },
  {
   "cell_type": "code",
   "execution_count": 158,
   "metadata": {},
   "outputs": [],
   "source": [
    "# Applying k-Fold Cross Validation\n",
    "from sklearn.model_selection import cross_val_score\n",
    "score = cross_val_score(LR_reg, X = X_final_sc, y = y, scoring=\"neg_mean_squared_error\", cv=10)\n",
    "LR_rmse_score = np.sqrt(-score)"
   ]
  },
  {
   "cell_type": "code",
   "execution_count": 159,
   "metadata": {},
   "outputs": [
    {
     "data": {
      "text/plain": [
       "array([5.21191287e-04, 8.17148420e-05, 6.14336911e-04, 9.13247011e-07,\n",
       "       2.44843011e-04, 1.24003398e-05, 2.53651790e-03, 6.52317378e-06,\n",
       "       6.13538713e-04, 2.75092813e-04])"
      ]
     },
     "execution_count": 159,
     "metadata": {},
     "output_type": "execute_result"
    }
   ],
   "source": [
    "LR_rmse_score"
   ]
  },
  {
   "cell_type": "code",
   "execution_count": 160,
   "metadata": {},
   "outputs": [
    {
     "data": {
      "text/plain": [
       "0.0004907072235665237"
      ]
     },
     "execution_count": 160,
     "metadata": {},
     "output_type": "execute_result"
    }
   ],
   "source": [
    "LR_rmse_score.mean()"
   ]
  },
  {
   "cell_type": "markdown",
   "metadata": {},
   "source": [
    "Linear Regression with Feature Scaling k-fold validation has higher error than training -> indicates overfitting\n",
    "<br>Let's now try Linear Regression with Regularization"
   ]
  },
  {
   "cell_type": "markdown",
   "metadata": {},
   "source": [
    "## Linear Regression with Regularization"
   ]
  },
  {
   "cell_type": "markdown",
   "metadata": {},
   "source": [
    "### Ridge Regression"
   ]
  },
  {
   "cell_type": "markdown",
   "metadata": {},
   "source": [
    "In Ridge regression has L2 penalty -> sum of weight square terms are added to the cost function"
   ]
  },
  {
   "cell_type": "code",
   "execution_count": 161,
   "metadata": {},
   "outputs": [
    {
     "data": {
      "text/plain": [
       "Ridge(alpha=5, copy_X=True, fit_intercept=True, max_iter=None, normalize=False,\n",
       "      random_state=None, solver='auto', tol=0.001)"
      ]
     },
     "execution_count": 161,
     "metadata": {},
     "output_type": "execute_result"
    }
   ],
   "source": [
    "from sklearn.linear_model import Ridge\n",
    "ridge_reg = Ridge(alpha=5, solver='auto')\n",
    "ridge_reg.fit(X_final_sc, y)"
   ]
  },
  {
   "cell_type": "code",
   "execution_count": 162,
   "metadata": {},
   "outputs": [],
   "source": [
    "y_pred_ridge = ridge_reg.predict(X_final_sc)"
   ]
  },
  {
   "cell_type": "code",
   "execution_count": 163,
   "metadata": {},
   "outputs": [
    {
     "name": "stdout",
     "output_type": "stream",
     "text": [
      "[[12.24769912 12.24769912 12.24769912 12.24728433]\n",
      " [12.10901644 12.10901644 12.10901644 12.11468021]\n",
      " [12.31717117 12.31717117 12.31717117 12.31431303]\n",
      " ...\n",
      " [12.49313327 12.49313327 12.49313327 12.49640224]\n",
      " [11.86446927 11.86446927 11.86446927 11.86566251]\n",
      " [11.90159023 11.90159023 11.90159023 11.90225896]]\n"
     ]
    }
   ],
   "source": [
    "# compare y with predicted y for training set (Log SalePrice)\n",
    "print(np.c_[y, y_pred_LR, y_pred_LR_sc, y_pred_ridge ])"
   ]
  },
  {
   "cell_type": "code",
   "execution_count": 164,
   "metadata": {},
   "outputs": [
    {
     "data": {
      "text/plain": [
       "0.005587351927216121"
      ]
     },
     "execution_count": 164,
     "metadata": {},
     "output_type": "execute_result"
    }
   ],
   "source": [
    "LR_mse_sc = mean_squared_error(y,y_pred_ridge) # mean square error\n",
    "LR_rmse_sc = np.sqrt(LR_mse_sc) # root mean square error \n",
    "LR_rmse_sc"
   ]
  },
  {
   "cell_type": "markdown",
   "metadata": {},
   "source": [
    "#### K-fold cross verification for Ridge regression "
   ]
  },
  {
   "cell_type": "code",
   "execution_count": 165,
   "metadata": {},
   "outputs": [
    {
     "data": {
      "text/plain": [
       "array([0.00914776, 0.00701744, 0.00839298, 0.00930707, 0.01098735,\n",
       "       0.00774324, 0.00872152, 0.00636853, 0.0074684 , 0.00935504])"
      ]
     },
     "execution_count": 165,
     "metadata": {},
     "output_type": "execute_result"
    }
   ],
   "source": [
    "# Applying k-Fold Cross Validation\n",
    "from sklearn.model_selection import cross_val_score\n",
    "score = cross_val_score(ridge_reg, X = X_final_sc, y = y, scoring=\"neg_mean_squared_error\", cv=10)\n",
    "ridge_rmse_score = np.sqrt(-score)\n",
    "ridge_rmse_score"
   ]
  },
  {
   "cell_type": "code",
   "execution_count": 166,
   "metadata": {},
   "outputs": [
    {
     "data": {
      "text/plain": [
       "0.00845093243475201"
      ]
     },
     "execution_count": 166,
     "metadata": {},
     "output_type": "execute_result"
    }
   ],
   "source": [
    "ridge_rmse_score.mean()"
   ]
  },
  {
   "cell_type": "markdown",
   "metadata": {},
   "source": [
    "K-fold rmse and training rmse for ridge are similar indicating minimal overfitting."
   ]
  },
  {
   "cell_type": "markdown",
   "metadata": {},
   "source": [
    "#### Cross-validation"
   ]
  },
  {
   "cell_type": "code",
   "execution_count": 167,
   "metadata": {},
   "outputs": [
    {
     "name": "stdout",
     "output_type": "stream",
     "text": [
      "Best alpha : 0.05\n"
     ]
    }
   ],
   "source": [
    "from sklearn.linear_model import  RidgeCV\n",
    "ridge_cv = RidgeCV(alphas = [ 0.1, 0.5, 1, 3, 10, 30])\n",
    "ridge_cv.fit(X_final_sc, y)\n",
    "alpha = ridge_cv.alpha_\n",
    "# Fine-tuning alpha in the viscinity of alpha\n",
    "ridge_cv = RidgeCV(alphas = [alpha * 0.5, alpha * 1.5, alpha * 0.75])\n",
    "ridge_cv.fit(X_final_sc, y)\n",
    "alpha = ridge_cv.alpha_\n",
    "print(\"Best alpha :\", alpha)"
   ]
  },
  {
   "cell_type": "code",
   "execution_count": 168,
   "metadata": {},
   "outputs": [
    {
     "data": {
      "text/plain": [
       "array([1.02558603e-04, 7.69370165e-05, 9.43034227e-05, 1.02778262e-04,\n",
       "       1.24843537e-04, 8.66822894e-05, 9.69085665e-05, 6.94590988e-05,\n",
       "       8.64417824e-05, 1.04058812e-04])"
      ]
     },
     "execution_count": 168,
     "metadata": {},
     "output_type": "execute_result"
    }
   ],
   "source": [
    "# Applying k-Fold Cross Validation\n",
    "from sklearn.linear_model import Ridge\n",
    "ridge_reg = Ridge(alpha=0.05)\n",
    "from sklearn.model_selection import cross_val_score\n",
    "score = cross_val_score(ridge_reg, X = X_final_sc, y = y, scoring=\"neg_mean_squared_error\", cv=10)\n",
    "ridge_rmse_score = np.sqrt(-score)\n",
    "ridge_rmse_score"
   ]
  },
  {
   "cell_type": "code",
   "execution_count": 169,
   "metadata": {},
   "outputs": [
    {
     "data": {
      "text/plain": [
       "9.449713897801407e-05"
      ]
     },
     "execution_count": 169,
     "metadata": {},
     "output_type": "execute_result"
    }
   ],
   "source": [
    "ridge_rmse_score.mean()"
   ]
  },
  {
   "cell_type": "markdown",
   "metadata": {},
   "source": [
    "##### Ridge Coefficients"
   ]
  },
  {
   "cell_type": "code",
   "execution_count": 170,
   "metadata": {},
   "outputs": [
    {
     "data": {
      "text/plain": [
       "Ridge(alpha=0.05, copy_X=True, fit_intercept=True, max_iter=None,\n",
       "      normalize=False, random_state=None, solver='auto', tol=0.001)"
      ]
     },
     "execution_count": 170,
     "metadata": {},
     "output_type": "execute_result"
    }
   ],
   "source": [
    "ridge_reg = Ridge(alpha=0.05)\n",
    "ridge_reg.fit(X_final_sc, y)"
   ]
  },
  {
   "cell_type": "code",
   "execution_count": 171,
   "metadata": {},
   "outputs": [
    {
     "data": {
      "text/html": [
       "<div>\n",
       "<style scoped>\n",
       "    .dataframe tbody tr th:only-of-type {\n",
       "        vertical-align: middle;\n",
       "    }\n",
       "\n",
       "    .dataframe tbody tr th {\n",
       "        vertical-align: top;\n",
       "    }\n",
       "\n",
       "    .dataframe thead th {\n",
       "        text-align: right;\n",
       "    }\n",
       "</style>\n",
       "<table border=\"1\" class=\"dataframe\">\n",
       "  <thead>\n",
       "    <tr style=\"text-align: right;\">\n",
       "      <th></th>\n",
       "      <th>Coefficient</th>\n",
       "    </tr>\n",
       "  </thead>\n",
       "  <tbody>\n",
       "    <tr>\n",
       "      <th>SalePrice</th>\n",
       "      <td>0.399311</td>\n",
       "    </tr>\n",
       "    <tr>\n",
       "      <th>GarageYrBlt</th>\n",
       "      <td>0.000070</td>\n",
       "    </tr>\n",
       "    <tr>\n",
       "      <th>BsmtExposure</th>\n",
       "      <td>0.000062</td>\n",
       "    </tr>\n",
       "    <tr>\n",
       "      <th>GarageType_none</th>\n",
       "      <td>0.000053</td>\n",
       "    </tr>\n",
       "    <tr>\n",
       "      <th>TotRmsAbvGrd</th>\n",
       "      <td>0.000043</td>\n",
       "    </tr>\n",
       "    <tr>\n",
       "      <th>BsmtScore2_48</th>\n",
       "      <td>0.000039</td>\n",
       "    </tr>\n",
       "    <tr>\n",
       "      <th>YearBuilt</th>\n",
       "      <td>0.000038</td>\n",
       "    </tr>\n",
       "    <tr>\n",
       "      <th>BsmtScore2_9</th>\n",
       "      <td>0.000035</td>\n",
       "    </tr>\n",
       "    <tr>\n",
       "      <th>PoolScore</th>\n",
       "      <td>0.000034</td>\n",
       "    </tr>\n",
       "    <tr>\n",
       "      <th>BsmtScore2_36</th>\n",
       "      <td>0.000031</td>\n",
       "    </tr>\n",
       "  </tbody>\n",
       "</table>\n",
       "</div>"
      ],
      "text/plain": [
       "                 Coefficient\n",
       "SalePrice           0.399311\n",
       "GarageYrBlt         0.000070\n",
       "BsmtExposure        0.000062\n",
       "GarageType_none     0.000053\n",
       "TotRmsAbvGrd        0.000043\n",
       "BsmtScore2_48       0.000039\n",
       "YearBuilt           0.000038\n",
       "BsmtScore2_9        0.000035\n",
       "PoolScore           0.000034\n",
       "BsmtScore2_36       0.000031"
      ]
     },
     "execution_count": 171,
     "metadata": {},
     "output_type": "execute_result"
    }
   ],
   "source": [
    "# Note - coefficients can only be obtained after fit.\n",
    "ridge_coeff = pd.DataFrame(ridge_reg.coef_, index = X_final_sc.columns, columns=['Coefficient'])\n",
    "# Top 10 coefficients (absolute values)\n",
    "ridge_coeff.abs().sort_values(by=['Coefficient'], ascending=False).head(10)"
   ]
  },
  {
   "cell_type": "code",
   "execution_count": null,
   "metadata": {},
   "outputs": [],
   "source": []
  },
  {
   "cell_type": "code",
   "execution_count": 172,
   "metadata": {},
   "outputs": [
    {
     "data": {
      "image/png": "[encoded data removed]",
      "text/plain": [
       "<Figure size 432x288 with 1 Axes>"
      ]
     },
     "metadata": {
      "needs_background": "light"
     },
     "output_type": "display_data"
    }
   ],
   "source": [
    "# Plot important coefficients\n",
    "imp_ridge_coeff =  ridge_coeff[(ridge_coeff['Coefficient'].abs() > 1.8e-5) & (ridge_coeff['Coefficient'].abs() < 0.3) ]\n",
    "imp_ridge_coeff.plot(kind = \"barh\")\n",
    "plt.title(\"Important Ridge Coefficients\")\n",
    "plt.show()"
   ]
  },
  {
   "cell_type": "code",
   "execution_count": null,
   "metadata": {},
   "outputs": [],
   "source": []
  },
  {
   "cell_type": "markdown",
   "metadata": {},
   "source": [
    "### Lasso Regression"
   ]
  },
  {
   "cell_type": "markdown",
   "metadata": {},
   "source": [
    "In lasso regression the L1 norm is used as penalty in the cost function"
   ]
  },
  {
   "cell_type": "code",
   "execution_count": 173,
   "metadata": {},
   "outputs": [
    {
     "data": {
      "text/plain": [
       "Lasso(alpha=0.1, copy_X=True, fit_intercept=True, max_iter=1000,\n",
       "      normalize=False, positive=False, precompute=False, random_state=None,\n",
       "      selection='cyclic', tol=0.0001, warm_start=False)"
      ]
     },
     "execution_count": 173,
     "metadata": {},
     "output_type": "execute_result"
    }
   ],
   "source": [
    "from sklearn.linear_model import Lasso\n",
    "lasso_reg = Lasso(alpha=0.1)\n",
    "lasso_reg.fit(X_final_sc, y)"
   ]
  },
  {
   "cell_type": "code",
   "execution_count": 174,
   "metadata": {},
   "outputs": [],
   "source": [
    "y_pred_lasso = lasso_reg.predict(X_final_sc)"
   ]
  },
  {
   "cell_type": "code",
   "execution_count": 175,
   "metadata": {},
   "outputs": [
    {
     "name": "stdout",
     "output_type": "stream",
     "text": [
      "[[12.24769912 12.24769912 12.24769912 12.24728433 12.19171875]\n",
      " [12.10901644 12.10901644 12.10901644 12.11468021 12.08774356]\n",
      " [12.31717117 12.31717117 12.31717117 12.31431303 12.24380435]\n",
      " ...\n",
      " [12.49313327 12.49313327 12.49313327 12.49640224 12.37572922]\n",
      " [11.86446927 11.86446927 11.86446927 11.86566251 11.90439809]\n",
      " [11.90159023 11.90159023 11.90159023 11.90225896 11.93222896]]\n"
     ]
    }
   ],
   "source": [
    "# compare y with predicted y for training set (Log SalePrice)\n",
    "print(np.c_[y, y_pred_LR, y_pred_LR_sc, y_pred_ridge, y_pred_lasso ])"
   ]
  },
  {
   "cell_type": "code",
   "execution_count": 176,
   "metadata": {},
   "outputs": [
    {
     "data": {
      "text/plain": [
       "0.10000000000000005"
      ]
     },
     "execution_count": 176,
     "metadata": {},
     "output_type": "execute_result"
    }
   ],
   "source": [
    "LR_mse_sc = mean_squared_error(y,y_pred_lasso) # mean square error\n",
    "LR_rmse_sc = np.sqrt(LR_mse_sc) # root mean square error \n",
    "LR_rmse_sc"
   ]
  },
  {
   "cell_type": "markdown",
   "metadata": {},
   "source": [
    "#### K-fold cross verification for Lasso regression "
   ]
  },
  {
   "cell_type": "code",
   "execution_count": 177,
   "metadata": {},
   "outputs": [
    {
     "data": {
      "text/plain": [
       "array([0.09370895, 0.09869648, 0.10777414, 0.10829447, 0.11772633,\n",
       "       0.0880571 , 0.09809406, 0.09165544, 0.09435314, 0.10120562])"
      ]
     },
     "execution_count": 177,
     "metadata": {},
     "output_type": "execute_result"
    }
   ],
   "source": [
    "# Applying k-Fold Cross Validation\n",
    "from sklearn.model_selection import cross_val_score\n",
    "score = cross_val_score(lasso_reg, X = X_final_sc, y = y, scoring=\"neg_mean_squared_error\", cv=10)\n",
    "lasso_rmse_score = np.sqrt(-score)\n",
    "lasso_rmse_score"
   ]
  },
  {
   "cell_type": "code",
   "execution_count": 178,
   "metadata": {},
   "outputs": [
    {
     "data": {
      "text/plain": [
       "0.09995657309577248"
      ]
     },
     "execution_count": 178,
     "metadata": {},
     "output_type": "execute_result"
    }
   ],
   "source": [
    "lasso_rmse_score.mean()"
   ]
  },
  {
   "cell_type": "markdown",
   "metadata": {},
   "source": [
    "#### Cross-validation"
   ]
  },
  {
   "cell_type": "code",
   "execution_count": 179,
   "metadata": {},
   "outputs": [
    {
     "name": "stdout",
     "output_type": "stream",
     "text": [
      "Best alpha : 0.0005\n"
     ]
    },
    {
     "name": "stderr",
     "output_type": "stream",
     "text": [
      "/home/budhochat/anaconda3/lib/python3.7/site-packages/sklearn/model_selection/_split.py:1978: FutureWarning: The default value of cv will change from 3 to 5 in version 0.22. Specify it explicitly to silence this warning.\n",
      "  warnings.warn(CV_WARNING, FutureWarning)\n",
      "/home/budhochat/anaconda3/lib/python3.7/site-packages/sklearn/model_selection/_split.py:1978: FutureWarning: The default value of cv will change from 3 to 5 in version 0.22. Specify it explicitly to silence this warning.\n",
      "  warnings.warn(CV_WARNING, FutureWarning)\n"
     ]
    }
   ],
   "source": [
    "from sklearn.linear_model import  LassoCV\n",
    "lasso_cv = LassoCV(alphas = [ 0.001, 0.1, 0.5, 1, 3, 10])\n",
    "lasso_cv.fit(X_final_sc, y)\n",
    "alpha = lasso_cv.alpha_\n",
    "# Fine-tuning alpha in the viscinity of alpha\n",
    "lasso_cv = LassoCV(alphas = [alpha * 0.5, alpha * 1.5, alpha * 0.75])\n",
    "lasso_cv.fit(X_final_sc, y)\n",
    "alpha = lasso_cv.alpha_\n",
    "print(\"Best alpha :\", alpha)"
   ]
  },
  {
   "cell_type": "code",
   "execution_count": 180,
   "metadata": {},
   "outputs": [
    {
     "data": {
      "text/plain": [
       "array([0.00046854, 0.00049348, 0.00053887, 0.00054147, 0.00058863,\n",
       "       0.00044029, 0.00049047, 0.00045828, 0.00047177, 0.00050603])"
      ]
     },
     "execution_count": 180,
     "metadata": {},
     "output_type": "execute_result"
    }
   ],
   "source": [
    "# Applying k-Fold Cross Validation\n",
    "from sklearn.linear_model import Lasso\n",
    "lasso_reg = Lasso(alpha=0.0005)\n",
    "from sklearn.model_selection import cross_val_score\n",
    "score = cross_val_score(lasso_reg, X = X_final_sc, y = y, scoring=\"neg_mean_squared_error\", cv=10)\n",
    "lasso_rmse_score = np.sqrt(-score)\n",
    "lasso_rmse_score"
   ]
  },
  {
   "cell_type": "code",
   "execution_count": 181,
   "metadata": {},
   "outputs": [
    {
     "data": {
      "text/plain": [
       "0.0004997828654788814"
      ]
     },
     "execution_count": 181,
     "metadata": {},
     "output_type": "execute_result"
    }
   ],
   "source": [
    "lasso_rmse_score.mean()"
   ]
  },
  {
   "cell_type": "markdown",
   "metadata": {},
   "source": [
    "Lasso score is less than ridge"
   ]
  },
  {
   "cell_type": "markdown",
   "metadata": {},
   "source": [
    "##### Lasso regression coefficients"
   ]
  },
  {
   "cell_type": "code",
   "execution_count": 182,
   "metadata": {},
   "outputs": [
    {
     "data": {
      "text/plain": [
       "Lasso(alpha=0.0005, copy_X=True, fit_intercept=True, max_iter=1000,\n",
       "      normalize=False, positive=False, precompute=False, random_state=None,\n",
       "      selection='cyclic', tol=0.0001, warm_start=False)"
      ]
     },
     "execution_count": 182,
     "metadata": {},
     "output_type": "execute_result"
    }
   ],
   "source": [
    "lasso_reg = Lasso(alpha=0.0005)\n",
    "lasso_reg.fit(X_final_sc, y)"
   ]
  },
  {
   "cell_type": "code",
   "execution_count": 183,
   "metadata": {},
   "outputs": [
    {
     "data": {
      "text/html": [
       "<div>\n",
       "<style scoped>\n",
       "    .dataframe tbody tr th:only-of-type {\n",
       "        vertical-align: middle;\n",
       "    }\n",
       "\n",
       "    .dataframe tbody tr th {\n",
       "        vertical-align: top;\n",
       "    }\n",
       "\n",
       "    .dataframe thead th {\n",
       "        text-align: right;\n",
       "    }\n",
       "</style>\n",
       "<table border=\"1\" class=\"dataframe\">\n",
       "  <thead>\n",
       "    <tr style=\"text-align: right;\">\n",
       "      <th></th>\n",
       "      <th>Coefficient</th>\n",
       "    </tr>\n",
       "  </thead>\n",
       "  <tbody>\n",
       "    <tr>\n",
       "      <th>SalePrice</th>\n",
       "      <td>0.399076</td>\n",
       "    </tr>\n",
       "    <tr>\n",
       "      <th>Id</th>\n",
       "      <td>0.000000</td>\n",
       "    </tr>\n",
       "    <tr>\n",
       "      <th>Exterior2nd_Wd Sdng</th>\n",
       "      <td>0.000000</td>\n",
       "    </tr>\n",
       "    <tr>\n",
       "      <th>Exterior2nd_Stucco</th>\n",
       "      <td>0.000000</td>\n",
       "    </tr>\n",
       "    <tr>\n",
       "      <th>Exterior2nd_Stone</th>\n",
       "      <td>0.000000</td>\n",
       "    </tr>\n",
       "    <tr>\n",
       "      <th>Exterior2nd_Plywood</th>\n",
       "      <td>0.000000</td>\n",
       "    </tr>\n",
       "    <tr>\n",
       "      <th>Exterior2nd_Other</th>\n",
       "      <td>0.000000</td>\n",
       "    </tr>\n",
       "    <tr>\n",
       "      <th>Exterior2nd_MetalSd</th>\n",
       "      <td>0.000000</td>\n",
       "    </tr>\n",
       "    <tr>\n",
       "      <th>Exterior2nd_ImStucc</th>\n",
       "      <td>0.000000</td>\n",
       "    </tr>\n",
       "    <tr>\n",
       "      <th>Exterior2nd_HdBoard</th>\n",
       "      <td>0.000000</td>\n",
       "    </tr>\n",
       "  </tbody>\n",
       "</table>\n",
       "</div>"
      ],
      "text/plain": [
       "                     Coefficient\n",
       "SalePrice               0.399076\n",
       "Id                      0.000000\n",
       "Exterior2nd_Wd Sdng     0.000000\n",
       "Exterior2nd_Stucco      0.000000\n",
       "Exterior2nd_Stone       0.000000\n",
       "Exterior2nd_Plywood     0.000000\n",
       "Exterior2nd_Other       0.000000\n",
       "Exterior2nd_MetalSd     0.000000\n",
       "Exterior2nd_ImStucc     0.000000\n",
       "Exterior2nd_HdBoard     0.000000"
      ]
     },
     "execution_count": 183,
     "metadata": {},
     "output_type": "execute_result"
    }
   ],
   "source": [
    "# Note - coefficients can only be obtained after fit.\n",
    "lasso_coeff = pd.DataFrame(lasso_reg.coef_, index = X_final_sc.columns, columns=['Coefficient'])\n",
    "# Top 10 coefficients (absolute values)\n",
    "lasso_coeff.abs().sort_values(by=['Coefficient'], ascending=False).head(10)"
   ]
  },
  {
   "cell_type": "markdown",
   "metadata": {},
   "source": [
    "All zero coefficient. Too much penalty."
   ]
  },
  {
   "cell_type": "code",
   "execution_count": 184,
   "metadata": {},
   "outputs": [
    {
     "name": "stderr",
     "output_type": "stream",
     "text": [
      "/home/budhochat/anaconda3/lib/python3.7/site-packages/sklearn/model_selection/_split.py:1978: FutureWarning: The default value of cv will change from 3 to 5 in version 0.22. Specify it explicitly to silence this warning.\n",
      "  warnings.warn(CV_WARNING, FutureWarning)\n",
      "/home/budhochat/anaconda3/lib/python3.7/site-packages/sklearn/model_selection/_split.py:1978: FutureWarning: The default value of cv will change from 3 to 5 in version 0.22. Specify it explicitly to silence this warning.\n",
      "  warnings.warn(CV_WARNING, FutureWarning)\n"
     ]
    },
    {
     "name": "stdout",
     "output_type": "stream",
     "text": [
      "Best alpha : 5e-30\n"
     ]
    }
   ],
   "source": [
    "from sklearn.linear_model import  LassoCV\n",
    "lasso_cv = LassoCV(alphas = [1e-30,1e-29,1e-25, 5e-5,1e-4,5e-4], max_iter=5000, tol=0.0001)\n",
    "lasso_cv.fit(X_final_sc, y)\n",
    "alpha = lasso_cv.alpha_\n",
    "# Fine-tuning alpha in the viscinity of alpha\n",
    "lasso_cv = LassoCV(alphas = [alpha * 0.5, alpha * 1.5, alpha * 0.75])\n",
    "lasso_cv.fit(X_final_sc, y)\n",
    "alpha = lasso_cv.alpha_\n",
    "print(\"Best alpha :\", alpha)"
   ]
  },
  {
   "cell_type": "markdown",
   "metadata": {},
   "source": [
    "Error not a good sign. Likely model over-fitting or too complicated for lasso"
   ]
  },
  {
   "cell_type": "markdown",
   "metadata": {},
   "source": [
    " Lasso not a good model"
   ]
  },
  {
   "cell_type": "code",
   "execution_count": 185,
   "metadata": {},
   "outputs": [
    {
     "data": {
      "text/plain": [
       "array([0.00315964, 0.00313487, 0.04262426, 0.00398676, 0.00878642,\n",
       "       0.00543419, 0.00674657, 0.00170119, 0.0051031 , 0.01145321])"
      ]
     },
     "execution_count": 185,
     "metadata": {},
     "output_type": "execute_result"
    }
   ],
   "source": [
    "# Applying k-Fold Cross Validation\n",
    "from sklearn.linear_model import Lasso\n",
    "lasso_reg = Lasso(alpha=5e-30)\n",
    "from sklearn.model_selection import cross_val_score\n",
    "score = cross_val_score(lasso_reg, X = X_final_sc, y = y, scoring=\"neg_mean_squared_error\", cv=10)\n",
    "lasso_rmse_score = np.sqrt(-score)\n",
    "lasso_rmse_score"
   ]
  },
  {
   "cell_type": "code",
   "execution_count": 186,
   "metadata": {},
   "outputs": [
    {
     "data": {
      "text/plain": [
       "0.009213021501900258"
      ]
     },
     "execution_count": 186,
     "metadata": {},
     "output_type": "execute_result"
    }
   ],
   "source": [
    "lasso_rmse_score.mean()"
   ]
  },
  {
   "cell_type": "markdown",
   "metadata": {},
   "source": [
    "#### Coefficients"
   ]
  },
  {
   "cell_type": "code",
   "execution_count": 187,
   "metadata": {},
   "outputs": [
    {
     "data": {
      "text/plain": [
       "Lasso(alpha=5e-30, copy_X=True, fit_intercept=True, max_iter=1000,\n",
       "      normalize=False, positive=False, precompute=False, random_state=None,\n",
       "      selection='cyclic', tol=0.0001, warm_start=False)"
      ]
     },
     "execution_count": 187,
     "metadata": {},
     "output_type": "execute_result"
    }
   ],
   "source": [
    "lasso_reg = Lasso(alpha=5e-30)\n",
    "lasso_reg.fit(X_final_sc, y)"
   ]
  },
  {
   "cell_type": "code",
   "execution_count": 188,
   "metadata": {},
   "outputs": [
    {
     "data": {
      "text/html": [
       "<div>\n",
       "<style scoped>\n",
       "    .dataframe tbody tr th:only-of-type {\n",
       "        vertical-align: middle;\n",
       "    }\n",
       "\n",
       "    .dataframe tbody tr th {\n",
       "        vertical-align: top;\n",
       "    }\n",
       "\n",
       "    .dataframe thead th {\n",
       "        text-align: right;\n",
       "    }\n",
       "</style>\n",
       "<table border=\"1\" class=\"dataframe\">\n",
       "  <thead>\n",
       "    <tr style=\"text-align: right;\">\n",
       "      <th></th>\n",
       "      <th>Coefficient</th>\n",
       "    </tr>\n",
       "  </thead>\n",
       "  <tbody>\n",
       "    <tr>\n",
       "      <th>SalePrice</th>\n",
       "      <td>0.399826</td>\n",
       "    </tr>\n",
       "    <tr>\n",
       "      <th>TotFlrSF</th>\n",
       "      <td>0.314651</td>\n",
       "    </tr>\n",
       "    <tr>\n",
       "      <th>2ndFlrSF</th>\n",
       "      <td>0.305233</td>\n",
       "    </tr>\n",
       "    <tr>\n",
       "      <th>1stFlrSF</th>\n",
       "      <td>0.260724</td>\n",
       "    </tr>\n",
       "    <tr>\n",
       "      <th>BsmtQual</th>\n",
       "      <td>0.200627</td>\n",
       "    </tr>\n",
       "    <tr>\n",
       "      <th>BsmtCond_0</th>\n",
       "      <td>0.154480</td>\n",
       "    </tr>\n",
       "    <tr>\n",
       "      <th>TotSF</th>\n",
       "      <td>0.139521</td>\n",
       "    </tr>\n",
       "    <tr>\n",
       "      <th>BsmtScore1_9</th>\n",
       "      <td>0.125271</td>\n",
       "    </tr>\n",
       "    <tr>\n",
       "      <th>BsmtScore1_6</th>\n",
       "      <td>0.095247</td>\n",
       "    </tr>\n",
       "    <tr>\n",
       "      <th>BsmtFullBath</th>\n",
       "      <td>0.089251</td>\n",
       "    </tr>\n",
       "  </tbody>\n",
       "</table>\n",
       "</div>"
      ],
      "text/plain": [
       "              Coefficient\n",
       "SalePrice        0.399826\n",
       "TotFlrSF         0.314651\n",
       "2ndFlrSF         0.305233\n",
       "1stFlrSF         0.260724\n",
       "BsmtQual         0.200627\n",
       "BsmtCond_0       0.154480\n",
       "TotSF            0.139521\n",
       "BsmtScore1_9     0.125271\n",
       "BsmtScore1_6     0.095247\n",
       "BsmtFullBath     0.089251"
      ]
     },
     "execution_count": 188,
     "metadata": {},
     "output_type": "execute_result"
    }
   ],
   "source": [
    "# Note - coefficients can only be obtained after fit.\n",
    "lasso_coeff = pd.DataFrame(lasso_reg.coef_, index = X_final_sc.columns, columns=['Coefficient'])\n",
    "# Top 10 coefficients (absolute values)\n",
    "lasso_coeff.abs().sort_values(by=['Coefficient'], ascending=False).head(10)"
   ]
  },
  {
   "cell_type": "code",
   "execution_count": 189,
   "metadata": {},
   "outputs": [
    {
     "data": {
      "image/png": "[encoded data removed]",
      "text/plain": [
       "<Figure size 432x288 with 1 Axes>"
      ]
     },
     "metadata": {
      "needs_background": "light"
     },
     "output_type": "display_data"
    }
   ],
   "source": [
    "# Plot important coefficients\n",
    "imp_lasso_coeff =  lasso_coeff[(lasso_coeff['Coefficient'].abs() > 5e-2) & (lasso_coeff['Coefficient'].abs() < 0.35) ]\n",
    "imp_lasso_coeff.plot(kind = \"barh\")\n",
    "plt.title(\"Important Lasso Coefficients\")\n",
    "plt.show()"
   ]
  },
  {
   "cell_type": "markdown",
   "metadata": {},
   "source": [
    "Lasso shows positive correlation with 2nd SF but negative with total floor SF which does not make sense."
   ]
  },
  {
   "cell_type": "markdown",
   "metadata": {},
   "source": [
    "## Random Forest Regression"
   ]
  },
  {
   "cell_type": "code",
   "execution_count": 190,
   "metadata": {},
   "outputs": [
    {
     "data": {
      "text/plain": [
       "RandomForestRegressor(bootstrap=True, criterion='mse', max_depth=None,\n",
       "                      max_features='auto', max_leaf_nodes=None,\n",
       "                      min_impurity_decrease=0.0, min_impurity_split=None,\n",
       "                      min_samples_leaf=1, min_samples_split=2,\n",
       "                      min_weight_fraction_leaf=0.0, n_estimators=100,\n",
       "                      n_jobs=None, oob_score=False, random_state=0, verbose=0,\n",
       "                      warm_start=False)"
      ]
     },
     "execution_count": 190,
     "metadata": {},
     "output_type": "execute_result"
    }
   ],
   "source": [
    "np.random.seed(0)\n",
    "from sklearn.ensemble import RandomForestRegressor\n",
    "RF_reg = RandomForestRegressor(n_estimators=100,random_state = 0)\n",
    "RF_reg.fit(X_final, y) # no need for feature scaling in Random Forest"
   ]
  },
  {
   "cell_type": "code",
   "execution_count": 191,
   "metadata": {},
   "outputs": [],
   "source": [
    "#predicting training set\n",
    "y_pred_RF = RF_reg.predict(X_final)"
   ]
  },
  {
   "cell_type": "code",
   "execution_count": 192,
   "metadata": {},
   "outputs": [
    {
     "data": {
      "text/plain": [
       "0.004120657782605178"
      ]
     },
     "execution_count": 192,
     "metadata": {},
     "output_type": "execute_result"
    }
   ],
   "source": [
    "RF_mse = mean_squared_error(y,y_pred_RF)\n",
    "RF_rmse = np.sqrt(RF_mse)\n",
    "RF_rmse"
   ]
  },
  {
   "cell_type": "markdown",
   "metadata": {},
   "source": [
    "#### Fine-tuning Random Forest regressor"
   ]
  },
  {
   "cell_type": "markdown",
   "metadata": {},
   "source": [
    "#### Grid Search (finding best parameter)"
   ]
  },
  {
   "cell_type": "code",
   "execution_count": 193,
   "metadata": {},
   "outputs": [],
   "source": [
    "np.random.seed(0)\n",
    "from sklearn.model_selection import GridSearchCV\n",
    "parameters = [{'n_estimators': [50, 100, 200, 300, 400, 500],'max_features': ['auto', None, 'log2']}]\n",
    "RF_reg = RandomForestRegressor(random_state=0)\n",
    "grid_search = GridSearchCV(estimator=RF_reg, \n",
    "                                    param_grid=parameters,\n",
    "                                    scoring='neg_mean_squared_error', \n",
    "                                    cv = 10,\n",
    "                                    n_jobs = -1,\n",
    "                                    return_train_score=True)\n",
    "grid_search.fit(X_final,y)\n",
    "best_score = grid_search.best_score_\n",
    "best_parameters = grid_search.best_params_"
   ]
  },
  {
   "cell_type": "code",
   "execution_count": 194,
   "metadata": {},
   "outputs": [
    {
     "name": "stdout",
     "output_type": "stream",
     "text": [
      "Best score: 0.011878102922173315\n",
      "Best Parameters: {'max_features': 'auto', 'n_estimators': 500}\n"
     ]
    }
   ],
   "source": [
    "print(\"Best score:\", np.sqrt(-best_score))\n",
    "print(\"Best Parameters:\", best_parameters)"
   ]
  },
  {
   "cell_type": "markdown",
   "metadata": {},
   "source": [
    "#### Fitting the training data with the optimized parameter"
   ]
  },
  {
   "cell_type": "code",
   "execution_count": 195,
   "metadata": {},
   "outputs": [
    {
     "data": {
      "text/plain": [
       "RandomForestRegressor(bootstrap=True, criterion='mse', max_depth=None,\n",
       "                      max_features='auto', max_leaf_nodes=None,\n",
       "                      min_impurity_decrease=0.0, min_impurity_split=None,\n",
       "                      min_samples_leaf=1, min_samples_split=2,\n",
       "                      min_weight_fraction_leaf=0.0, n_estimators=200,\n",
       "                      n_jobs=None, oob_score=False, random_state=0, verbose=0,\n",
       "                      warm_start=False)"
      ]
     },
     "execution_count": 195,
     "metadata": {},
     "output_type": "execute_result"
    }
   ],
   "source": [
    "from sklearn.ensemble import RandomForestRegressor\n",
    "RF_reg = RandomForestRegressor(n_estimators=200,random_state = 0)\n",
    "RF_reg.fit(X_final, y)"
   ]
  },
  {
   "cell_type": "code",
   "execution_count": 196,
   "metadata": {},
   "outputs": [
    {
     "data": {
      "text/plain": [
       "0.004120657782605178"
      ]
     },
     "execution_count": 196,
     "metadata": {},
     "output_type": "execute_result"
    }
   ],
   "source": [
    "RF_mse = mean_squared_error(y,y_pred_RF)\n",
    "RF_rmse = np.sqrt(RF_mse)\n",
    "RF_rmse"
   ]
  },
  {
   "cell_type": "markdown",
   "metadata": {},
   "source": [
    "#### K-Fold Cross Validation"
   ]
  },
  {
   "cell_type": "code",
   "execution_count": 197,
   "metadata": {},
   "outputs": [],
   "source": [
    "# Applying k-Fold Cross Validation\n",
    "RF_reg = RandomForestRegressor(n_estimators=200,random_state = 0)\n",
    "from sklearn.model_selection import cross_val_score;\n",
    "RFscore = cross_val_score(RF_reg, X = X_final, y = y, scoring=\"neg_mean_squared_error\", cv=10);\n",
    "RF_rmse_score = np.sqrt(-RFscore);"
   ]
  },
  {
   "cell_type": "code",
   "execution_count": 198,
   "metadata": {},
   "outputs": [
    {
     "data": {
      "text/plain": [
       "array([0.0044002 , 0.00247028, 0.00454298, 0.01956888, 0.01886955,\n",
       "       0.00597569, 0.02096286, 0.00635476, 0.01600861, 0.00545069])"
      ]
     },
     "execution_count": 198,
     "metadata": {},
     "output_type": "execute_result"
    }
   ],
   "source": [
    "RF_rmse_score"
   ]
  },
  {
   "cell_type": "code",
   "execution_count": 199,
   "metadata": {},
   "outputs": [
    {
     "data": {
      "text/plain": [
       "0.010460449272471185"
      ]
     },
     "execution_count": 199,
     "metadata": {},
     "output_type": "execute_result"
    }
   ],
   "source": [
    "RF_rmse_score.mean()"
   ]
  },
  {
   "cell_type": "code",
   "execution_count": 200,
   "metadata": {},
   "outputs": [],
   "source": [
    "# Try with feature3 scaling\n",
    "RF_reg = RandomForestRegressor(n_estimators=200,random_state = 0)\n",
    "from sklearn.model_selection import cross_val_score;\n",
    "RFscore = cross_val_score(RF_reg, X = X_final_sc, y = y, scoring=\"neg_mean_squared_error\", cv=10);\n",
    "RFsc_rmse_score = np.sqrt(-RFscore);\n"
   ]
  },
  {
   "cell_type": "code",
   "execution_count": 201,
   "metadata": {},
   "outputs": [
    {
     "data": {
      "text/plain": [
       "array([0.00438842, 0.00247626, 0.00454496, 0.01956518, 0.01868776,\n",
       "       0.00598183, 0.02089926, 0.00634147, 0.01585964, 0.00543059])"
      ]
     },
     "execution_count": 201,
     "metadata": {},
     "output_type": "execute_result"
    }
   ],
   "source": [
    "RFsc_rmse_score"
   ]
  },
  {
   "cell_type": "code",
   "execution_count": 202,
   "metadata": {},
   "outputs": [
    {
     "name": "stdout",
     "output_type": "stream",
     "text": [
      "[[4.90707224e-04 9.44971390e-05 9.21302150e-03 1.04604493e-02\n",
      "  1.04175381e-02]]\n"
     ]
    }
   ],
   "source": [
    "print(np.c_[LR_rmse_score.mean(), ridge_rmse_score.mean(), lasso_rmse_score.mean(), RF_rmse_score.mean(), RFsc_rmse_score.mean()])"
   ]
  },
  {
   "cell_type": "markdown",
   "metadata": {},
   "source": [
    "No difference between scaled and unscaled for Random Forest.\n",
    "Ridge regression gave the best score."
   ]
  },
  {
   "cell_type": "markdown",
   "metadata": {},
   "source": [
    "### Using Gradient Boosting\n",
    "#### XGBoost"
   ]
  },
  {
   "cell_type": "code",
   "execution_count": 225,
   "metadata": {},
   "outputs": [
    {
     "name": "stderr",
     "output_type": "stream",
     "text": [
      "/home/budhochat/anaconda3/lib/python3.7/site-packages/xgboost/core.py:587: FutureWarning: Series.base is deprecated and will be removed in a future version\n",
      "  if getattr(data, 'base', None) is not None and \\\n",
      "/home/budhochat/anaconda3/lib/python3.7/site-packages/xgboost/core.py:588: FutureWarning: Series.base is deprecated and will be removed in a future version\n",
      "  data.base is not None and isinstance(data, np.ndarray) \\\n"
     ]
    },
    {
     "name": "stdout",
     "output_type": "stream",
     "text": [
      "[13:56:11] WARNING: src/objective/regression_obj.cu:152: reg:linear is now deprecated in favor of reg:squarederror.\n"
     ]
    }
   ],
   "source": [
    "# Simple xgboost\n",
    "# For anaconda distribution :To install xgboost- Command - conda install -c anaconda py-xgboost\n",
    "import xgboost as xgb \n",
    "xgb_reg = xgb.XGBRegressor()\n",
    "from sklearn.model_selection import GridSearchCV\n",
    "parameters = [{'n_estimators': [500, 1000, 2000],'learning_rate': [0.03, 0.05, 0.07, 0.1]}]\n",
    "xgb_grid_search = GridSearchCV(estimator=xgb_reg, \n",
    "                                    param_grid=parameters,\n",
    "                                    scoring='neg_mean_squared_error', \n",
    "                                    cv = 10,\n",
    "                                    n_jobs = -1,\n",
    "                                    return_train_score=True)\n",
    "xgb_grid_search.fit(X_final,y)\n",
    "best_score = xgb_grid_search.best_score_\n",
    "best_parameters = xgb_grid_search.best_params_"
   ]
  },
  {
   "cell_type": "code",
   "execution_count": 226,
   "metadata": {},
   "outputs": [
    {
     "name": "stdout",
     "output_type": "stream",
     "text": [
      "Best score: 0.007773499889322872\n",
      "Best Parameters: {'learning_rate': 0.03, 'n_estimators': 2000}\n"
     ]
    }
   ],
   "source": [
    "print(\"Best score:\", np.sqrt(-best_score))\n",
    "print(\"Best Parameters:\", best_parameters)"
   ]
  },
  {
   "cell_type": "code",
   "execution_count": 228,
   "metadata": {},
   "outputs": [
    {
     "name": "stdout",
     "output_type": "stream",
     "text": [
      "[14:20:13] WARNING: src/objective/regression_obj.cu:152: reg:linear is now deprecated in favor of reg:squarederror.\n"
     ]
    },
    {
     "name": "stderr",
     "output_type": "stream",
     "text": [
      "/home/budhochat/anaconda3/lib/python3.7/site-packages/xgboost/core.py:587: FutureWarning: Series.base is deprecated and will be removed in a future version\n",
      "  if getattr(data, 'base', None) is not None and \\\n"
     ]
    },
    {
     "name": "stdout",
     "output_type": "stream",
     "text": [
      "[14:22:01] WARNING: src/objective/regression_obj.cu:152: reg:linear is now deprecated in favor of reg:squarederror.\n"
     ]
    },
    {
     "name": "stderr",
     "output_type": "stream",
     "text": [
      "/home/budhochat/anaconda3/lib/python3.7/site-packages/xgboost/core.py:587: FutureWarning: Series.base is deprecated and will be removed in a future version\n",
      "  if getattr(data, 'base', None) is not None and \\\n"
     ]
    },
    {
     "name": "stdout",
     "output_type": "stream",
     "text": [
      "[14:23:49] WARNING: src/objective/regression_obj.cu:152: reg:linear is now deprecated in favor of reg:squarederror.\n"
     ]
    },
    {
     "name": "stderr",
     "output_type": "stream",
     "text": [
      "/home/budhochat/anaconda3/lib/python3.7/site-packages/xgboost/core.py:587: FutureWarning: Series.base is deprecated and will be removed in a future version\n",
      "  if getattr(data, 'base', None) is not None and \\\n"
     ]
    },
    {
     "name": "stdout",
     "output_type": "stream",
     "text": [
      "[14:25:38] WARNING: src/objective/regression_obj.cu:152: reg:linear is now deprecated in favor of reg:squarederror.\n"
     ]
    },
    {
     "name": "stderr",
     "output_type": "stream",
     "text": [
      "/home/budhochat/anaconda3/lib/python3.7/site-packages/xgboost/core.py:587: FutureWarning: Series.base is deprecated and will be removed in a future version\n",
      "  if getattr(data, 'base', None) is not None and \\\n"
     ]
    },
    {
     "name": "stdout",
     "output_type": "stream",
     "text": [
      "[14:27:27] WARNING: src/objective/regression_obj.cu:152: reg:linear is now deprecated in favor of reg:squarederror.\n"
     ]
    },
    {
     "name": "stderr",
     "output_type": "stream",
     "text": [
      "/home/budhochat/anaconda3/lib/python3.7/site-packages/xgboost/core.py:587: FutureWarning: Series.base is deprecated and will be removed in a future version\n",
      "  if getattr(data, 'base', None) is not None and \\\n"
     ]
    },
    {
     "name": "stdout",
     "output_type": "stream",
     "text": [
      "[14:29:15] WARNING: src/objective/regression_obj.cu:152: reg:linear is now deprecated in favor of reg:squarederror.\n"
     ]
    },
    {
     "name": "stderr",
     "output_type": "stream",
     "text": [
      "/home/budhochat/anaconda3/lib/python3.7/site-packages/xgboost/core.py:587: FutureWarning: Series.base is deprecated and will be removed in a future version\n",
      "  if getattr(data, 'base', None) is not None and \\\n"
     ]
    },
    {
     "name": "stdout",
     "output_type": "stream",
     "text": [
      "[14:31:02] WARNING: src/objective/regression_obj.cu:152: reg:linear is now deprecated in favor of reg:squarederror.\n"
     ]
    },
    {
     "name": "stderr",
     "output_type": "stream",
     "text": [
      "/home/budhochat/anaconda3/lib/python3.7/site-packages/xgboost/core.py:587: FutureWarning: Series.base is deprecated and will be removed in a future version\n",
      "  if getattr(data, 'base', None) is not None and \\\n"
     ]
    },
    {
     "name": "stdout",
     "output_type": "stream",
     "text": [
      "[14:32:58] WARNING: src/objective/regression_obj.cu:152: reg:linear is now deprecated in favor of reg:squarederror.\n"
     ]
    },
    {
     "name": "stderr",
     "output_type": "stream",
     "text": [
      "/home/budhochat/anaconda3/lib/python3.7/site-packages/xgboost/core.py:587: FutureWarning: Series.base is deprecated and will be removed in a future version\n",
      "  if getattr(data, 'base', None) is not None and \\\n"
     ]
    },
    {
     "name": "stdout",
     "output_type": "stream",
     "text": [
      "[14:34:54] WARNING: src/objective/regression_obj.cu:152: reg:linear is now deprecated in favor of reg:squarederror.\n"
     ]
    },
    {
     "name": "stderr",
     "output_type": "stream",
     "text": [
      "/home/budhochat/anaconda3/lib/python3.7/site-packages/xgboost/core.py:587: FutureWarning: Series.base is deprecated and will be removed in a future version\n",
      "  if getattr(data, 'base', None) is not None and \\\n"
     ]
    },
    {
     "name": "stdout",
     "output_type": "stream",
     "text": [
      "[14:36:51] WARNING: src/objective/regression_obj.cu:152: reg:linear is now deprecated in favor of reg:squarederror.\n"
     ]
    }
   ],
   "source": [
    "# Applying k-Fold Cross Validation\n",
    "#RF_reg = RandomForestRegressor(n_estimators=200,random_state = 0)\n",
    "from sklearn.model_selection import cross_val_score;\n",
    "XGBscore = cross_val_score(xgb_grid_search, X = X_final, y = y, scoring=\"neg_mean_squared_error\", cv=10);\n",
    "XGB_rmse_score = np.sqrt(-XGBscore);"
   ]
  },
  {
   "cell_type": "code",
   "execution_count": 229,
   "metadata": {},
   "outputs": [
    {
     "data": {
      "text/plain": [
       "array([0.00311958, 0.00459039, 0.00498077, 0.0060644 , 0.01691874,\n",
       "       0.00619174, 0.0093619 , 0.00286841, 0.0085366 , 0.00480179])"
      ]
     },
     "execution_count": 229,
     "metadata": {},
     "output_type": "execute_result"
    }
   ],
   "source": [
    "XGB_rmse_score"
   ]
  },
  {
   "cell_type": "code",
   "execution_count": 232,
   "metadata": {},
   "outputs": [
    {
     "name": "stdout",
     "output_type": "stream",
     "text": [
      "[[4.90707224e-04 9.44971390e-05 9.21302150e-03 1.04604493e-02\n",
      "  1.04175381e-02 6.74343146e-03]]\n"
     ]
    }
   ],
   "source": [
    "print(np.c_[LR_rmse_score.mean(), ridge_rmse_score.mean(), lasso_rmse_score.mean(), RF_rmse_score.mean(), RFsc_rmse_score.mean(), XGB_rmse_score.mean()])"
   ]
  },
  {
   "cell_type": "markdown",
   "metadata": {},
   "source": [
    "XGboost camparable to lasso, better than Random Forest but worse than Ridge in cross-validation"
   ]
  },
  {
   "cell_type": "markdown",
   "metadata": {},
   "source": [
    "### Predicting on test data"
   ]
  },
  {
   "cell_type": "code",
   "execution_count": null,
   "metadata": {},
   "outputs": [],
   "source": []
  },
  {
   "cell_type": "markdown",
   "metadata": {},
   "source": [
    "I will submit the output with ridge and check with other models also"
   ]
  },
  {
   "cell_type": "markdown",
   "metadata": {},
   "source": [
    "**Ridge**"
   ]
  },
  {
   "cell_type": "code",
   "execution_count": 210,
   "metadata": {},
   "outputs": [],
   "source": [
    "# Best -> Ridge\n",
    "y_pred_ridge_test = ridge_reg.predict(Xtest_final_sc) # logvalue of sale price (with feature scaling)"
   ]
  },
  {
   "cell_type": "code",
   "execution_count": null,
   "metadata": {},
   "outputs": [],
   "source": []
  },
  {
   "cell_type": "code",
   "execution_count": 211,
   "metadata": {},
   "outputs": [],
   "source": [
    "output_ridge = pd.DataFrame({'Id': test_data.Id, 'SalePrice': np.expm1(y_pred_ridge_test)})\n",
    "output_ridge.to_csv('./Submissions/submission_ridge.csv', index=False)"
   ]
  },
  {
   "cell_type": "markdown",
   "metadata": {},
   "source": [
    "Ridge gives = 0.43114 (without feature scaling) = 0.41879 (with Feature scaling) <br>\n",
    "Significantly worse than k-fold evaluation"
   ]
  },
  {
   "cell_type": "markdown",
   "metadata": {},
   "source": [
    "**Linear Regression**"
   ]
  },
  {
   "cell_type": "code",
   "execution_count": 212,
   "metadata": {},
   "outputs": [],
   "source": [
    "y_pred_LR_test = LR_reg.predict(Xtest_final) # without feature scaling\n",
    "output_LR = pd.DataFrame({'Id': test_data.Id, 'SalePrice': np.expm1(y_pred_LR_test)})\n",
    "output_LR.to_csv('./Submissions/submission_LR.csv', index=False)"
   ]
  },
  {
   "cell_type": "markdown",
   "metadata": {},
   "source": [
    "0.43604"
   ]
  },
  {
   "cell_type": "code",
   "execution_count": 214,
   "metadata": {},
   "outputs": [],
   "source": [
    "y_pred_LRsc_test = LR_reg.predict(Xtest_final_sc) # without feature scaling\n",
    "output_LRsc = pd.DataFrame({'Id': test_data.Id, 'SalePrice': np.expm1(y_pred_LRsc_test)})\n",
    "output_LR.to_csv('./Submissions/submission_LRsc.csv', index=False)"
   ]
  },
  {
   "cell_type": "markdown",
   "metadata": {},
   "source": [
    "0.43604"
   ]
  },
  {
   "cell_type": "markdown",
   "metadata": {},
   "source": [
    "No difference between LR scaled and non-scaled"
   ]
  },
  {
   "cell_type": "markdown",
   "metadata": {},
   "source": [
    "**Lasso**"
   ]
  },
  {
   "cell_type": "code",
   "execution_count": 215,
   "metadata": {},
   "outputs": [],
   "source": [
    "y_pred_lasso_test = lasso_reg.predict(Xtest_final_sc)\n",
    "output_lasso = pd.DataFrame({'Id': test_data.Id, 'SalePrice': np.expm1(y_pred_lasso_test)})\n",
    "output_lasso.to_csv('./Submissions/submission_lasso.csv', index=False)"
   ]
  },
  {
   "cell_type": "markdown",
   "metadata": {},
   "source": [
    "0.43123"
   ]
  },
  {
   "cell_type": "markdown",
   "metadata": {},
   "source": [
    "**Random Forest**"
   ]
  },
  {
   "cell_type": "code",
   "execution_count": 217,
   "metadata": {},
   "outputs": [],
   "source": [
    "RF_reg.fit(X_final, y)\n",
    "y_pred_RF_test = RF_reg.predict(Xtest_final)\n",
    "output_RF = pd.DataFrame({'Id': test_data.Id, 'SalePrice': np.expm1(y_pred_RF_test)})\n",
    "output_RF.to_csv('./Submissions/submission_RF.csv', index=False)"
   ]
  },
  {
   "cell_type": "markdown",
   "metadata": {},
   "source": [
    "1.50212"
   ]
  },
  {
   "cell_type": "markdown",
   "metadata": {},
   "source": [
    "Terrible performance from Random Forest"
   ]
  },
  {
   "cell_type": "markdown",
   "metadata": {},
   "source": [
    "**XG Boost**"
   ]
  },
  {
   "cell_type": "code",
   "execution_count": 233,
   "metadata": {},
   "outputs": [
    {
     "name": "stderr",
     "output_type": "stream",
     "text": [
      "/home/budhochat/anaconda3/lib/python3.7/site-packages/xgboost/core.py:587: FutureWarning: Series.base is deprecated and will be removed in a future version\n",
      "  if getattr(data, 'base', None) is not None and \\\n",
      "/home/budhochat/anaconda3/lib/python3.7/site-packages/xgboost/core.py:588: FutureWarning: Series.base is deprecated and will be removed in a future version\n",
      "  data.base is not None and isinstance(data, np.ndarray) \\\n"
     ]
    },
    {
     "name": "stdout",
     "output_type": "stream",
     "text": [
      "[16:43:12] WARNING: src/objective/regression_obj.cu:152: reg:linear is now deprecated in favor of reg:squarederror.\n"
     ]
    }
   ],
   "source": [
    "xgb_grid_search.fit(X_final, y)\n",
    "y_pred_XGB_test = xgb_grid_search.predict(Xtest_final)\n",
    "output_XGB = pd.DataFrame({'Id': test_data.Id, 'SalePrice': np.expm1(y_pred_XGB_test)})\n",
    "output_XGB.to_csv('./Submissions/submission_XGB.csv', index=False)"
   ]
  },
  {
   "cell_type": "markdown",
   "metadata": {},
   "source": [
    "1.59096"
   ]
  },
  {
   "cell_type": "markdown",
   "metadata": {},
   "source": [
    "Even worse performance from XG Boost"
   ]
  },
  {
   "cell_type": "markdown",
   "metadata": {},
   "source": [
    "Best Submission Model: Ridge Regression"
   ]
  },
  {
   "cell_type": "markdown",
   "metadata": {},
   "source": [
    "\n",
    " "
   ]
  },
  {
   "cell_type": "code",
   "execution_count": null,
   "metadata": {},
   "outputs": [],
   "source": []
  }
 ],
 "metadata": {
  "kernelspec": {
   "display_name": "Python 3",
   "language": "python",
   "name": "python3"
  },
  "language_info": {
   "codemirror_mode": {
    "name": "ipython",
    "version": 3
   },
   "file_extension": ".py",
   "mimetype": "text/x-python",
   "name": "python",
   "nbconvert_exporter": "python",
   "pygments_lexer": "ipython3",
   "version": "3.7.3"
  }
 },
 "nbformat": 4,
 "nbformat_minor": 4
}
